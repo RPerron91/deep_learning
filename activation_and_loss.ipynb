{
 "cells": [
  {
   "cell_type": "code",
   "execution_count": 4,
   "metadata": {},
   "outputs": [],
   "source": [
    "import warnings\n",
    "warnings.filterwarnings('ignore')\n",
    "\n",
    "from tensorflow.keras.datasets import mnist\n",
    "from tensorflow.keras.models import Sequential\n",
    "from tensorflow.keras.layers import Dense\n",
    "from tensorflow.keras.utils import to_categorical\n",
    "import matplotlib.pyplot as plt"
   ]
  },
  {
   "cell_type": "code",
   "execution_count": 2,
   "metadata": {},
   "outputs": [],
   "source": [
    "(x_train, y_train), (x_test, y_test) = mnist.load_data()\n",
    "\n",
    "\n",
    "input_dim = 28 * 28 # pixel length and width of each image\n",
    "output_dim = nb_classes = 10\n",
    "batch_size = 128\n",
    "nb_epoch = 20\n",
    "\n",
    "x_train = x_train.reshape(60000, input_dim)\n",
    "x_test = x_test.reshape(10000, input_dim)\n",
    "x_train = x_train.astype('float32')\n",
    "x_test = x_test.astype('float32')\n",
    "x_train /= 255 # normalize by dividing by maximum pixel value\n",
    "x_test /= 255"
   ]
  },
  {
   "cell_type": "code",
   "execution_count": 5,
   "metadata": {},
   "outputs": [],
   "source": [
    "y_train = to_categorical(y_train, nb_classes)\n",
    "y_test = to_categorical(y_test, nb_classes)"
   ]
  },
  {
   "cell_type": "code",
   "execution_count": 6,
   "metadata": {},
   "outputs": [],
   "source": [
    "shape_of_first = x_train[0].shape"
   ]
  },
  {
   "cell_type": "code",
   "execution_count": 7,
   "metadata": {},
   "outputs": [
    {
     "data": {
      "image/png": "[encoded data removed]",
      "text/plain": [
       "<Figure size 1440x360 with 4 Axes>"
      ]
     },
     "metadata": {
      "needs_background": "light"
     },
     "output_type": "display_data"
    }
   ],
   "source": [
    "plt.figure(figsize=(20,5))\n",
    "\n",
    "plt.subplot(141)\n",
    "plt.imshow(x_train[123].reshape(28,28), cmap=\"gray\")\n",
    "plt.title(\"Label of the image: {}\".format(y_train[123]))\n",
    "\n",
    "plt.subplot(142)\n",
    "plt.imshow(x_train[124].reshape(28,28), cmap=\"gray\")\n",
    "plt.title(\"Label of the image: {}\".format(y_train[124]))\n",
    "\n",
    "plt.subplot(143)\n",
    "plt.imshow(x_train[125].reshape(28,28), cmap=\"gray\")\n",
    "plt.title(\"Label of the image: {}\".format(y_train[125]))\n",
    "\n",
    "plt.subplot(144)\n",
    "plt.imshow(x_train[126].reshape(28,28), cmap=\"gray\")\n",
    "plt.title(\"Label of the image: {}\".format(y_train[126]))\n",
    "\n",
    "plt.show()"
   ]
  },
  {
   "cell_type": "markdown",
   "metadata": {},
   "source": [
    "### 1) In this task, you'll implement several ANN models with different activation functions. Specifically:"
   ]
  },
  {
   "cell_type": "markdown",
   "metadata": {},
   "source": [
    "#### Implement a three layer ANN model with 128, 64 and 10 neurons in the layers using tanh activation function for each layer."
   ]
  },
  {
   "cell_type": "code",
   "execution_count": 9,
   "metadata": {},
   "outputs": [
    {
     "name": "stdout",
     "output_type": "stream",
     "text": [
      "Train on 60000 samples, validate on 10000 samples\n",
      "Epoch 1/20\n",
      "WARNING:tensorflow:Entity <function Function._initialize_uninitialized_variables.<locals>.initialize_variables at 0x000002591AE73828> could not be transformed and will be executed as-is. Please report this to the AutoGraph team. When filing the bug, set the verbosity to 10 (on Linux, `export AUTOGRAPH_VERBOSITY=10`) and attach the full output. Cause: module 'gast' has no attribute 'Num'\n",
      "WARNING: Entity <function Function._initialize_uninitialized_variables.<locals>.initialize_variables at 0x000002591AE73828> could not be transformed and will be executed as-is. Please report this to the AutoGraph team. When filing the bug, set the verbosity to 10 (on Linux, `export AUTOGRAPH_VERBOSITY=10`) and attach the full output. Cause: module 'gast' has no attribute 'Num'\n",
      "60000/60000 [==============================] - 2s 26us/sample - loss: 1.0004 - accuracy: 0.7588 - val_loss: 0.5858 - val_accuracy: 0.8611\n",
      "Epoch 2/20\n",
      "60000/60000 [==============================] - 1s 21us/sample - loss: 0.5170 - accuracy: 0.8688 - val_loss: 0.4362 - val_accuracy: 0.8866\n",
      "Epoch 3/20\n",
      "60000/60000 [==============================] - 1s 21us/sample - loss: 0.4203 - accuracy: 0.8874 - val_loss: 0.3765 - val_accuracy: 0.8997\n",
      "Epoch 4/20\n",
      "60000/60000 [==============================] - 1s 21us/sample - loss: 0.3736 - accuracy: 0.8973 - val_loss: 0.3427 - val_accuracy: 0.9081\n",
      "Epoch 5/20\n",
      "60000/60000 [==============================] - 1s 20us/sample - loss: 0.3445 - accuracy: 0.9033 - val_loss: 0.3205 - val_accuracy: 0.9134\n",
      "Epoch 6/20\n",
      "60000/60000 [==============================] - 1s 21us/sample - loss: 0.3238 - accuracy: 0.9083 - val_loss: 0.3036 - val_accuracy: 0.9173\n",
      "Epoch 7/20\n",
      "60000/60000 [==============================] - 1s 21us/sample - loss: 0.3077 - accuracy: 0.9125 - val_loss: 0.2909 - val_accuracy: 0.9197\n",
      "Epoch 8/20\n",
      "60000/60000 [==============================] - 1s 23us/sample - loss: 0.2946 - accuracy: 0.9163 - val_loss: 0.2805 - val_accuracy: 0.9222\n",
      "Epoch 9/20\n",
      "60000/60000 [==============================] - 1s 22us/sample - loss: 0.2835 - accuracy: 0.9191 - val_loss: 0.2704 - val_accuracy: 0.9235\n",
      "Epoch 10/20\n",
      "60000/60000 [==============================] - 1s 21us/sample - loss: 0.2737 - accuracy: 0.9225 - val_loss: 0.2625 - val_accuracy: 0.9258\n",
      "Epoch 11/20\n",
      "60000/60000 [==============================] - 1s 21us/sample - loss: 0.2650 - accuracy: 0.9246 - val_loss: 0.2549 - val_accuracy: 0.9277\n",
      "Epoch 12/20\n",
      "60000/60000 [==============================] - 1s 21us/sample - loss: 0.2571 - accuracy: 0.9264 - val_loss: 0.2482 - val_accuracy: 0.9293\n",
      "Epoch 13/20\n",
      "60000/60000 [==============================] - 1s 22us/sample - loss: 0.2497 - accuracy: 0.9283 - val_loss: 0.2418 - val_accuracy: 0.9305\n",
      "Epoch 14/20\n",
      "60000/60000 [==============================] - 1s 22us/sample - loss: 0.2430 - accuracy: 0.9309 - val_loss: 0.2366 - val_accuracy: 0.9331\n",
      "Epoch 15/20\n",
      "60000/60000 [==============================] - 1s 21us/sample - loss: 0.2367 - accuracy: 0.9322 - val_loss: 0.2306 - val_accuracy: 0.9344\n",
      "Epoch 16/20\n",
      "60000/60000 [==============================] - 1s 21us/sample - loss: 0.2307 - accuracy: 0.9342 - val_loss: 0.2252 - val_accuracy: 0.9348\n",
      "Epoch 17/20\n",
      "60000/60000 [==============================] - 1s 22us/sample - loss: 0.2249 - accuracy: 0.9360 - val_loss: 0.2205 - val_accuracy: 0.9367\n",
      "Epoch 18/20\n",
      "60000/60000 [==============================] - 1s 21us/sample - loss: 0.2195 - accuracy: 0.9371 - val_loss: 0.2162 - val_accuracy: 0.9376\n",
      "Epoch 19/20\n",
      "60000/60000 [==============================] - 1s 21us/sample - loss: 0.2144 - accuracy: 0.9390 - val_loss: 0.2109 - val_accuracy: 0.9387\n",
      "Epoch 20/20\n",
      "60000/60000 [==============================] - 1s 21us/sample - loss: 0.2094 - accuracy: 0.9402 - val_loss: 0.2066 - val_accuracy: 0.9397\n"
     ]
    },
    {
     "data": {
      "text/plain": [
       "<tensorflow.python.keras.callbacks.History at 0x2591ae72108>"
      ]
     },
     "execution_count": 9,
     "metadata": {},
     "output_type": "execute_result"
    }
   ],
   "source": [
    "model = Sequential()\n",
    "model.add(Dense(128, input_shape=shape_of_first, activation='tanh'))\n",
    "model.add(Dense(64, activation='tanh'))\n",
    "model.add(Dense(10, activation='softmax'))\n",
    "model.compile(optimizer='sgd', loss='categorical_crossentropy', metrics=['accuracy'])\n",
    "model.fit(x_train, y_train, batch_size=batch_size, epochs=20, verbose=1, validation_data=(x_test, y_test))"
   ]
  },
  {
   "cell_type": "markdown",
   "metadata": {},
   "source": [
    "#### Implement a three layer ANN model with 128, 64 and 10 neurons in the layers using sigmoid activation function for each layer."
   ]
  },
  {
   "cell_type": "code",
   "execution_count": 10,
   "metadata": {},
   "outputs": [
    {
     "name": "stdout",
     "output_type": "stream",
     "text": [
      "Train on 60000 samples, validate on 10000 samples\n",
      "Epoch 1/20\n",
      "WARNING:tensorflow:Entity <function Function._initialize_uninitialized_variables.<locals>.initialize_variables at 0x000002591AA1FCA8> could not be transformed and will be executed as-is. Please report this to the AutoGraph team. When filing the bug, set the verbosity to 10 (on Linux, `export AUTOGRAPH_VERBOSITY=10`) and attach the full output. Cause: module 'gast' has no attribute 'Num'\n",
      "WARNING: Entity <function Function._initialize_uninitialized_variables.<locals>.initialize_variables at 0x000002591AA1FCA8> could not be transformed and will be executed as-is. Please report this to the AutoGraph team. When filing the bug, set the verbosity to 10 (on Linux, `export AUTOGRAPH_VERBOSITY=10`) and attach the full output. Cause: module 'gast' has no attribute 'Num'\n",
      "60000/60000 [==============================] - 2s 29us/sample - loss: 2.2918 - accuracy: 0.1736 - val_loss: 2.2519 - val_accuracy: 0.3337\n",
      "Epoch 2/20\n",
      "60000/60000 [==============================] - 1s 21us/sample - loss: 2.2250 - accuracy: 0.3571 - val_loss: 2.1911 - val_accuracy: 0.4393\n",
      "Epoch 3/20\n",
      "60000/60000 [==============================] - 1s 20us/sample - loss: 2.1550 - accuracy: 0.4547 - val_loss: 2.1065 - val_accuracy: 0.4809\n",
      "Epoch 4/20\n",
      "60000/60000 [==============================] - 1s 20us/sample - loss: 2.0550 - accuracy: 0.5133 - val_loss: 1.9847 - val_accuracy: 0.5120\n",
      "Epoch 5/20\n",
      "60000/60000 [==============================] - 1s 20us/sample - loss: 1.9155 - accuracy: 0.5427 - val_loss: 1.8230 - val_accuracy: 0.5567\n",
      "Epoch 6/20\n",
      "60000/60000 [==============================] - 1s 20us/sample - loss: 1.7434 - accuracy: 0.5758 - val_loss: 1.6403 - val_accuracy: 0.6058\n",
      "Epoch 7/20\n",
      "60000/60000 [==============================] - 1s 22us/sample - loss: 1.5645 - accuracy: 0.6191 - val_loss: 1.4658 - val_accuracy: 0.6449\n",
      "Epoch 8/20\n",
      "60000/60000 [==============================] - 1s 22us/sample - loss: 1.4018 - accuracy: 0.6593 - val_loss: 1.3145 - val_accuracy: 0.6713\n",
      "Epoch 9/20\n",
      "60000/60000 [==============================] - 1s 22us/sample - loss: 1.2619 - accuracy: 0.6903 - val_loss: 1.1854 - val_accuracy: 0.7130\n",
      "Epoch 10/20\n",
      "60000/60000 [==============================] - 1s 22us/sample - loss: 1.1438 - accuracy: 0.7208 - val_loss: 1.0776 - val_accuracy: 0.7367\n",
      "Epoch 11/20\n",
      "60000/60000 [==============================] - 1s 21us/sample - loss: 1.0445 - accuracy: 0.7441 - val_loss: 0.9865 - val_accuracy: 0.7608\n",
      "Epoch 12/20\n",
      "60000/60000 [==============================] - 1s 21us/sample - loss: 0.9610 - accuracy: 0.7643 - val_loss: 0.9101 - val_accuracy: 0.7789\n",
      "Epoch 13/20\n",
      "60000/60000 [==============================] - 1s 22us/sample - loss: 0.8902 - accuracy: 0.7809 - val_loss: 0.8457 - val_accuracy: 0.7919\n",
      "Epoch 14/20\n",
      "60000/60000 [==============================] - 1s 22us/sample - loss: 0.8299 - accuracy: 0.7952 - val_loss: 0.7889 - val_accuracy: 0.8034\n",
      "Epoch 15/20\n",
      "60000/60000 [==============================] - 1s 22us/sample - loss: 0.7781 - accuracy: 0.8066 - val_loss: 0.7416 - val_accuracy: 0.8162\n",
      "Epoch 16/20\n",
      "60000/60000 [==============================] - 1s 21us/sample - loss: 0.7335 - accuracy: 0.8169 - val_loss: 0.6997 - val_accuracy: 0.8257\n",
      "Epoch 17/20\n",
      "60000/60000 [==============================] - 1s 21us/sample - loss: 0.6948 - accuracy: 0.8252 - val_loss: 0.6633 - val_accuracy: 0.8344\n",
      "Epoch 18/20\n",
      "60000/60000 [==============================] - 1s 22us/sample - loss: 0.6610 - accuracy: 0.8332 - val_loss: 0.6316 - val_accuracy: 0.8426\n",
      "Epoch 19/20\n",
      "60000/60000 [==============================] - 1s 22us/sample - loss: 0.6313 - accuracy: 0.8403 - val_loss: 0.6034 - val_accuracy: 0.8472\n",
      "Epoch 20/20\n",
      "60000/60000 [==============================] - 1s 22us/sample - loss: 0.6051 - accuracy: 0.8456 - val_loss: 0.5788 - val_accuracy: 0.8535\n"
     ]
    },
    {
     "data": {
      "text/plain": [
       "<tensorflow.python.keras.callbacks.History at 0x25924f33048>"
      ]
     },
     "execution_count": 10,
     "metadata": {},
     "output_type": "execute_result"
    }
   ],
   "source": [
    "model = Sequential()\n",
    "model.add(Dense(128, input_shape=shape_of_first, activation='sigmoid'))\n",
    "model.add(Dense(64, activation='sigmoid'))\n",
    "model.add(Dense(10, activation='softmax'))\n",
    "model.compile(optimizer='sgd', loss='categorical_crossentropy', metrics=['accuracy'])\n",
    "model.fit(x_train, y_train, batch_size=batch_size, epochs=20, verbose=1, validation_data=(x_test, y_test))"
   ]
  },
  {
   "cell_type": "markdown",
   "metadata": {},
   "source": [
    "#### Implement a three layer ANN model with 128, 64 and 10 neurons in the layers using ReLU activation function for each layer.\n"
   ]
  },
  {
   "cell_type": "code",
   "execution_count": 11,
   "metadata": {},
   "outputs": [
    {
     "name": "stdout",
     "output_type": "stream",
     "text": [
      "Train on 60000 samples, validate on 10000 samples\n",
      "Epoch 1/20\n",
      "WARNING:tensorflow:Entity <function Function._initialize_uninitialized_variables.<locals>.initialize_variables at 0x00000259265B20D8> could not be transformed and will be executed as-is. Please report this to the AutoGraph team. When filing the bug, set the verbosity to 10 (on Linux, `export AUTOGRAPH_VERBOSITY=10`) and attach the full output. Cause: module 'gast' has no attribute 'Num'\n",
      "WARNING: Entity <function Function._initialize_uninitialized_variables.<locals>.initialize_variables at 0x00000259265B20D8> could not be transformed and will be executed as-is. Please report this to the AutoGraph team. When filing the bug, set the verbosity to 10 (on Linux, `export AUTOGRAPH_VERBOSITY=10`) and attach the full output. Cause: module 'gast' has no attribute 'Num'\n",
      "60000/60000 [==============================] - 2s 25us/sample - loss: 1.2610 - accuracy: 0.6819 - val_loss: 0.6144 - val_accuracy: 0.8533\n",
      "Epoch 2/20\n",
      "60000/60000 [==============================] - 1s 21us/sample - loss: 0.5091 - accuracy: 0.8679 - val_loss: 0.4080 - val_accuracy: 0.8909\n",
      "Epoch 3/20\n",
      "60000/60000 [==============================] - 1s 21us/sample - loss: 0.3939 - accuracy: 0.8920 - val_loss: 0.3464 - val_accuracy: 0.9036\n",
      "Epoch 4/20\n",
      "60000/60000 [==============================] - 1s 20us/sample - loss: 0.3466 - accuracy: 0.9030 - val_loss: 0.3145 - val_accuracy: 0.9117\n",
      "Epoch 5/20\n",
      "60000/60000 [==============================] - 1s 22us/sample - loss: 0.3185 - accuracy: 0.9102 - val_loss: 0.2925 - val_accuracy: 0.9177\n",
      "Epoch 6/20\n",
      "60000/60000 [==============================] - 1s 20us/sample - loss: 0.2978 - accuracy: 0.9151 - val_loss: 0.2757 - val_accuracy: 0.9234\n",
      "Epoch 7/20\n",
      "60000/60000 [==============================] - 1s 21us/sample - loss: 0.2816 - accuracy: 0.9200 - val_loss: 0.2631 - val_accuracy: 0.9258\n",
      "Epoch 8/20\n",
      "60000/60000 [==============================] - 1s 21us/sample - loss: 0.2677 - accuracy: 0.9239 - val_loss: 0.2510 - val_accuracy: 0.9304\n",
      "Epoch 9/20\n",
      "60000/60000 [==============================] - 1s 21us/sample - loss: 0.2557 - accuracy: 0.9275 - val_loss: 0.2418 - val_accuracy: 0.9331\n",
      "Epoch 10/20\n",
      "60000/60000 [==============================] - 1s 23us/sample - loss: 0.2450 - accuracy: 0.9306 - val_loss: 0.2328 - val_accuracy: 0.9363\n",
      "Epoch 11/20\n",
      "60000/60000 [==============================] - 1s 21us/sample - loss: 0.2350 - accuracy: 0.9338 - val_loss: 0.2266 - val_accuracy: 0.9362\n",
      "Epoch 12/20\n",
      "60000/60000 [==============================] - 1s 20us/sample - loss: 0.2260 - accuracy: 0.9363 - val_loss: 0.2171 - val_accuracy: 0.9400\n",
      "Epoch 13/20\n",
      "60000/60000 [==============================] - 1s 21us/sample - loss: 0.2176 - accuracy: 0.9384 - val_loss: 0.2120 - val_accuracy: 0.9412\n",
      "Epoch 14/20\n",
      "60000/60000 [==============================] - 1s 21us/sample - loss: 0.2096 - accuracy: 0.9407 - val_loss: 0.2048 - val_accuracy: 0.9417\n",
      "Epoch 15/20\n",
      "60000/60000 [==============================] - 1s 20us/sample - loss: 0.2023 - accuracy: 0.9427 - val_loss: 0.1974 - val_accuracy: 0.9442\n",
      "Epoch 16/20\n",
      "60000/60000 [==============================] - 1s 22us/sample - loss: 0.1957 - accuracy: 0.9445 - val_loss: 0.1923 - val_accuracy: 0.9457\n",
      "Epoch 17/20\n",
      "60000/60000 [==============================] - 1s 22us/sample - loss: 0.1891 - accuracy: 0.9462 - val_loss: 0.1872 - val_accuracy: 0.9479\n",
      "Epoch 18/20\n",
      "60000/60000 [==============================] - 1s 24us/sample - loss: 0.1833 - accuracy: 0.9482 - val_loss: 0.1816 - val_accuracy: 0.9492\n",
      "Epoch 19/20\n",
      "60000/60000 [==============================] - 1s 21us/sample - loss: 0.1776 - accuracy: 0.9499 - val_loss: 0.1772 - val_accuracy: 0.9494\n",
      "Epoch 20/20\n",
      "60000/60000 [==============================] - 1s 21us/sample - loss: 0.1723 - accuracy: 0.9511 - val_loss: 0.1740 - val_accuracy: 0.9504\n"
     ]
    },
    {
     "data": {
      "text/plain": [
       "<tensorflow.python.keras.callbacks.History at 0x25926598c88>"
      ]
     },
     "execution_count": 11,
     "metadata": {},
     "output_type": "execute_result"
    }
   ],
   "source": [
    "model = Sequential()\n",
    "model.add(Dense(128, input_shape=shape_of_first, activation='relu'))\n",
    "model.add(Dense(64, activation='relu'))\n",
    "model.add(Dense(10, activation='softmax'))\n",
    "model.compile(optimizer='sgd', loss='categorical_crossentropy', metrics=['accuracy'])\n",
    "model.fit(x_train, y_train, batch_size=batch_size, epochs=20, verbose=1, validation_data=(x_test, y_test))"
   ]
  },
  {
   "cell_type": "markdown",
   "metadata": {},
   "source": [
    "#### Compare the result of each model with each other. Which activation function did perform better?"
   ]
  },
  {
   "cell_type": "markdown",
   "metadata": {},
   "source": [
    "The relu activation function performed the best with a 95% test accuracy and overfit the model the least. The model that performed second best was the tanh activation funcation with an accuracy of 93% and the 3rd best model was the sigmoid activation funcation having an accuracy of only 85%. These models had the same number of layers and nodes per layer to ensure the only variable being altered was the activation fuction."
   ]
  },
  {
   "cell_type": "markdown",
   "metadata": {},
   "source": [
    "### 2) In this task, you'll implement the ANN models specified below with the hinge loss function as their loss functions:"
   ]
  },
  {
   "cell_type": "markdown",
   "metadata": {},
   "source": [
    "#### Implement a three layer ANN model with 128, 64 and 10 neurons in the layers using tanh activation function for each layer."
   ]
  },
  {
   "cell_type": "code",
   "execution_count": 12,
   "metadata": {},
   "outputs": [
    {
     "name": "stdout",
     "output_type": "stream",
     "text": [
      "Train on 60000 samples, validate on 10000 samples\n",
      "Epoch 1/20\n",
      "WARNING:tensorflow:From C:\\ProgramData\\Anaconda3\\lib\\site-packages\\tensorflow_core\\python\\ops\\math_grad.py:1394: where (from tensorflow.python.ops.array_ops) is deprecated and will be removed in a future version.\n",
      "Instructions for updating:\n",
      "Use tf.where in 2.0, which has the same broadcast rule as np.where\n",
      "WARNING:tensorflow:Entity <function Function._initialize_uninitialized_variables.<locals>.initialize_variables at 0x000002592655D0D8> could not be transformed and will be executed as-is. Please report this to the AutoGraph team. When filing the bug, set the verbosity to 10 (on Linux, `export AUTOGRAPH_VERBOSITY=10`) and attach the full output. Cause: module 'gast' has no attribute 'Num'\n",
      "WARNING: Entity <function Function._initialize_uninitialized_variables.<locals>.initialize_variables at 0x000002592655D0D8> could not be transformed and will be executed as-is. Please report this to the AutoGraph team. When filing the bug, set the verbosity to 10 (on Linux, `export AUTOGRAPH_VERBOSITY=10`) and attach the full output. Cause: module 'gast' has no attribute 'Num'\n",
      "60000/60000 [==============================] - 2s 36us/sample - loss: 1.0782 - accuracy: 0.1511 - val_loss: 1.0760 - val_accuracy: 0.2233\n",
      "Epoch 2/20\n",
      "60000/60000 [==============================] - 1s 23us/sample - loss: 1.0736 - accuracy: 0.2899 - val_loss: 1.0701 - val_accuracy: 0.3537\n",
      "Epoch 3/20\n",
      "60000/60000 [==============================] - 1s 22us/sample - loss: 1.0663 - accuracy: 0.3568 - val_loss: 1.0615 - val_accuracy: 0.3772\n",
      "Epoch 4/20\n",
      "60000/60000 [==============================] - 1s 23us/sample - loss: 1.0575 - accuracy: 0.3813 - val_loss: 1.0526 - val_accuracy: 0.4147\n",
      "Epoch 5/20\n",
      "60000/60000 [==============================] - 1s 22us/sample - loss: 1.0489 - accuracy: 0.4270 - val_loss: 1.0438 - val_accuracy: 0.4695\n",
      "Epoch 6/20\n",
      "60000/60000 [==============================] - 1s 23us/sample - loss: 1.0405 - accuracy: 0.4839 - val_loss: 1.0352 - val_accuracy: 0.5151\n",
      "Epoch 7/20\n",
      "60000/60000 [==============================] - 1s 22us/sample - loss: 1.0322 - accuracy: 0.5201 - val_loss: 1.0271 - val_accuracy: 0.5397\n",
      "Epoch 8/20\n",
      "60000/60000 [==============================] - 1s 22us/sample - loss: 1.0246 - accuracy: 0.5394 - val_loss: 1.0200 - val_accuracy: 0.5579\n",
      "Epoch 9/20\n",
      "60000/60000 [==============================] - 2s 25us/sample - loss: 1.0180 - accuracy: 0.5583 - val_loss: 1.0138 - val_accuracy: 0.5761\n",
      "Epoch 10/20\n",
      "60000/60000 [==============================] - 1s 22us/sample - loss: 1.0122 - accuracy: 0.5810 - val_loss: 1.0083 - val_accuracy: 0.5974\n",
      "Epoch 11/20\n",
      "60000/60000 [==============================] - 1s 22us/sample - loss: 1.0070 - accuracy: 0.6054 - val_loss: 1.0031 - val_accuracy: 0.6237\n",
      "Epoch 12/20\n",
      "60000/60000 [==============================] - 1s 25us/sample - loss: 1.0020 - accuracy: 0.6291 - val_loss: 0.9983 - val_accuracy: 0.6475\n",
      "Epoch 13/20\n",
      "60000/60000 [==============================] - 1s 23us/sample - loss: 0.9975 - accuracy: 0.6506 - val_loss: 0.9939 - val_accuracy: 0.6665\n",
      "Epoch 14/20\n",
      "60000/60000 [==============================] - 1s 24us/sample - loss: 0.9935 - accuracy: 0.6658 - val_loss: 0.9900 - val_accuracy: 0.6796\n",
      "Epoch 15/20\n",
      "60000/60000 [==============================] - 1s 23us/sample - loss: 0.9898 - accuracy: 0.6764 - val_loss: 0.9865 - val_accuracy: 0.6887\n",
      "Epoch 16/20\n",
      "60000/60000 [==============================] - 1s 23us/sample - loss: 0.9866 - accuracy: 0.6841 - val_loss: 0.9835 - val_accuracy: 0.6976\n",
      "Epoch 17/20\n",
      "60000/60000 [==============================] - 1s 23us/sample - loss: 0.9837 - accuracy: 0.6897 - val_loss: 0.9807 - val_accuracy: 0.7032\n",
      "Epoch 18/20\n",
      "60000/60000 [==============================] - 1s 22us/sample - loss: 0.9811 - accuracy: 0.6939 - val_loss: 0.9781 - val_accuracy: 0.7091\n",
      "Epoch 19/20\n",
      "60000/60000 [==============================] - 1s 23us/sample - loss: 0.9784 - accuracy: 0.7002 - val_loss: 0.9753 - val_accuracy: 0.7167\n",
      "Epoch 20/20\n",
      "60000/60000 [==============================] - 1s 25us/sample - loss: 0.9753 - accuracy: 0.7166 - val_loss: 0.9718 - val_accuracy: 0.7406\n"
     ]
    },
    {
     "data": {
      "text/plain": [
       "<tensorflow.python.keras.callbacks.History at 0x25926c90148>"
      ]
     },
     "execution_count": 12,
     "metadata": {},
     "output_type": "execute_result"
    }
   ],
   "source": [
    "model = Sequential()\n",
    "model.add(Dense(128, input_shape=shape_of_first, activation='tanh'))\n",
    "model.add(Dense(64, activation='tanh'))\n",
    "model.add(Dense(10, activation='softmax'))\n",
    "model.compile(optimizer='sgd', loss='hinge', metrics=['accuracy'])\n",
    "model.fit(x_train, y_train, batch_size=batch_size, epochs=20, verbose=1, validation_data=(x_test, y_test))"
   ]
  },
  {
   "cell_type": "markdown",
   "metadata": {},
   "source": [
    "#### Implement a three layer ANN model with 128, 64 and 10 neurons in the layers using sigmoid activation function for each layer."
   ]
  },
  {
   "cell_type": "code",
   "execution_count": 15,
   "metadata": {},
   "outputs": [
    {
     "name": "stdout",
     "output_type": "stream",
     "text": [
      "Train on 60000 samples, validate on 10000 samples\n",
      "Epoch 1/20\n",
      "WARNING:tensorflow:Entity <function Function._initialize_uninitialized_variables.<locals>.initialize_variables at 0x000002592A208D38> could not be transformed and will be executed as-is. Please report this to the AutoGraph team. When filing the bug, set the verbosity to 10 (on Linux, `export AUTOGRAPH_VERBOSITY=10`) and attach the full output. Cause: module 'gast' has no attribute 'Num'\n",
      "WARNING: Entity <function Function._initialize_uninitialized_variables.<locals>.initialize_variables at 0x000002592A208D38> could not be transformed and will be executed as-is. Please report this to the AutoGraph team. When filing the bug, set the verbosity to 10 (on Linux, `export AUTOGRAPH_VERBOSITY=10`) and attach the full output. Cause: module 'gast' has no attribute 'Num'\n",
      "60000/60000 [==============================] - 2s 27us/sample - loss: 1.0800 - accuracy: 0.1009 - val_loss: 1.0800 - val_accuracy: 0.1006\n",
      "Epoch 2/20\n",
      "60000/60000 [==============================] - 1s 22us/sample - loss: 1.0800 - accuracy: 0.1015 - val_loss: 1.0799 - val_accuracy: 0.1009\n",
      "Epoch 3/20\n",
      "60000/60000 [==============================] - 2s 26us/sample - loss: 1.0799 - accuracy: 0.1018 - val_loss: 1.0799 - val_accuracy: 0.1010\n",
      "Epoch 4/20\n",
      "60000/60000 [==============================] - 2s 25us/sample - loss: 1.0799 - accuracy: 0.1021 - val_loss: 1.0799 - val_accuracy: 0.1010\n",
      "Epoch 5/20\n",
      "60000/60000 [==============================] - 1s 22us/sample - loss: 1.0799 - accuracy: 0.1021 - val_loss: 1.0799 - val_accuracy: 0.1010\n",
      "Epoch 6/20\n",
      "60000/60000 [==============================] - 1s 22us/sample - loss: 1.0799 - accuracy: 0.1022 - val_loss: 1.0798 - val_accuracy: 0.1010\n",
      "Epoch 7/20\n",
      "60000/60000 [==============================] - 1s 22us/sample - loss: 1.0798 - accuracy: 0.1022 - val_loss: 1.0798 - val_accuracy: 0.1010\n",
      "Epoch 8/20\n",
      "60000/60000 [==============================] - 1s 22us/sample - loss: 1.0798 - accuracy: 0.1022 - val_loss: 1.0798 - val_accuracy: 0.1010\n",
      "Epoch 9/20\n",
      "60000/60000 [==============================] - 1s 24us/sample - loss: 1.0798 - accuracy: 0.1022 - val_loss: 1.0798 - val_accuracy: 0.1010\n",
      "Epoch 10/20\n",
      "60000/60000 [==============================] - 1s 23us/sample - loss: 1.0798 - accuracy: 0.1022 - val_loss: 1.0797 - val_accuracy: 0.1010\n",
      "Epoch 11/20\n",
      "60000/60000 [==============================] - 1s 22us/sample - loss: 1.0797 - accuracy: 0.1022 - val_loss: 1.0797 - val_accuracy: 0.1010\n",
      "Epoch 12/20\n",
      "60000/60000 [==============================] - 1s 22us/sample - loss: 1.0797 - accuracy: 0.1022 - val_loss: 1.0797 - val_accuracy: 0.1010\n",
      "Epoch 13/20\n",
      "60000/60000 [==============================] - 1s 22us/sample - loss: 1.0797 - accuracy: 0.1022 - val_loss: 1.0796 - val_accuracy: 0.1010\n",
      "Epoch 14/20\n",
      "60000/60000 [==============================] - 1s 22us/sample - loss: 1.0796 - accuracy: 0.1022 - val_loss: 1.0796 - val_accuracy: 0.1010\n",
      "Epoch 15/20\n",
      "60000/60000 [==============================] - 1s 22us/sample - loss: 1.0796 - accuracy: 0.1022 - val_loss: 1.0796 - val_accuracy: 0.1010\n",
      "Epoch 16/20\n",
      "60000/60000 [==============================] - 1s 22us/sample - loss: 1.0796 - accuracy: 0.1022 - val_loss: 1.0796 - val_accuracy: 0.1010\n",
      "Epoch 17/20\n",
      "60000/60000 [==============================] - 1s 22us/sample - loss: 1.0796 - accuracy: 0.1022 - val_loss: 1.0795 - val_accuracy: 0.1010\n",
      "Epoch 18/20\n",
      "60000/60000 [==============================] - 1s 22us/sample - loss: 1.0795 - accuracy: 0.1022 - val_loss: 1.0795 - val_accuracy: 0.1010\n",
      "Epoch 19/20\n",
      "60000/60000 [==============================] - 1s 23us/sample - loss: 1.0795 - accuracy: 0.1022 - val_loss: 1.0795 - val_accuracy: 0.1010\n",
      "Epoch 20/20\n",
      "60000/60000 [==============================] - 1s 24us/sample - loss: 1.0795 - accuracy: 0.1022 - val_loss: 1.0794 - val_accuracy: 0.1010\n"
     ]
    },
    {
     "data": {
      "text/plain": [
       "<tensorflow.python.keras.callbacks.History at 0x2592a21be08>"
      ]
     },
     "execution_count": 15,
     "metadata": {},
     "output_type": "execute_result"
    }
   ],
   "source": [
    "model = Sequential()\n",
    "model.add(Dense(128, input_shape=shape_of_first, activation='sigmoid'))\n",
    "model.add(Dense(64, activation='sigmoid'))\n",
    "model.add(Dense(10, activation='softmax'))\n",
    "model.compile(optimizer='sgd', loss='hinge', metrics=['accuracy'])\n",
    "model.fit(x_train, y_train, batch_size=batch_size, epochs=20, verbose=1, validation_data=(x_test, y_test))"
   ]
  },
  {
   "cell_type": "markdown",
   "metadata": {},
   "source": [
    "#### Implement a three layer ANN model with 128, 64 and 10 neurons in the layers using ReLU activation function for each layer."
   ]
  },
  {
   "cell_type": "code",
   "execution_count": 14,
   "metadata": {},
   "outputs": [
    {
     "name": "stdout",
     "output_type": "stream",
     "text": [
      "Train on 60000 samples, validate on 10000 samples\n",
      "Epoch 1/20\n",
      "WARNING:tensorflow:Entity <function Function._initialize_uninitialized_variables.<locals>.initialize_variables at 0x00000259283229D8> could not be transformed and will be executed as-is. Please report this to the AutoGraph team. When filing the bug, set the verbosity to 10 (on Linux, `export AUTOGRAPH_VERBOSITY=10`) and attach the full output. Cause: module 'gast' has no attribute 'Num'\n",
      "WARNING: Entity <function Function._initialize_uninitialized_variables.<locals>.initialize_variables at 0x00000259283229D8> could not be transformed and will be executed as-is. Please report this to the AutoGraph team. When filing the bug, set the verbosity to 10 (on Linux, `export AUTOGRAPH_VERBOSITY=10`) and attach the full output. Cause: module 'gast' has no attribute 'Num'\n",
      "60000/60000 [==============================] - 2s 29us/sample - loss: 1.0796 - accuracy: 0.1405 - val_loss: 1.0790 - val_accuracy: 0.1564\n",
      "Epoch 2/20\n",
      "60000/60000 [==============================] - 1s 24us/sample - loss: 1.0783 - accuracy: 0.1663 - val_loss: 1.0775 - val_accuracy: 0.1840\n",
      "Epoch 3/20\n",
      "60000/60000 [==============================] - 1s 22us/sample - loss: 1.0768 - accuracy: 0.1963 - val_loss: 1.0757 - val_accuracy: 0.2169\n",
      "Epoch 4/20\n",
      "60000/60000 [==============================] - 1s 22us/sample - loss: 1.0748 - accuracy: 0.2251 - val_loss: 1.0733 - val_accuracy: 0.2414\n",
      "Epoch 5/20\n",
      "60000/60000 [==============================] - 1s 24us/sample - loss: 1.0721 - accuracy: 0.2465 - val_loss: 1.0699 - val_accuracy: 0.2589\n",
      "Epoch 6/20\n",
      "60000/60000 [==============================] - 1s 23us/sample - loss: 1.0683 - accuracy: 0.2643 - val_loss: 1.0654 - val_accuracy: 0.2816\n",
      "Epoch 7/20\n",
      "60000/60000 [==============================] - 1s 23us/sample - loss: 1.0631 - accuracy: 0.2896 - val_loss: 1.0591 - val_accuracy: 0.3142\n",
      "Epoch 8/20\n",
      "60000/60000 [==============================] - 1s 23us/sample - loss: 1.0560 - accuracy: 0.3185 - val_loss: 1.0513 - val_accuracy: 0.3422\n",
      "Epoch 9/20\n",
      "60000/60000 [==============================] - 1s 23us/sample - loss: 1.0486 - accuracy: 0.3420 - val_loss: 1.0442 - val_accuracy: 0.3675\n",
      "Epoch 10/20\n",
      "60000/60000 [==============================] - 1s 24us/sample - loss: 1.0421 - accuracy: 0.3769 - val_loss: 1.0381 - val_accuracy: 0.4039\n",
      "Epoch 11/20\n",
      "60000/60000 [==============================] - 1s 25us/sample - loss: 1.0366 - accuracy: 0.4132 - val_loss: 1.0328 - val_accuracy: 0.4440\n",
      "Epoch 12/20\n",
      "60000/60000 [==============================] - 2s 25us/sample - loss: 1.0316 - accuracy: 0.4478 - val_loss: 1.0279 - val_accuracy: 0.4752\n",
      "Epoch 13/20\n",
      "60000/60000 [==============================] - 2s 25us/sample - loss: 1.0269 - accuracy: 0.4780 - val_loss: 1.0232 - val_accuracy: 0.5011\n",
      "Epoch 14/20\n",
      "60000/60000 [==============================] - 2s 25us/sample - loss: 1.0223 - accuracy: 0.5009 - val_loss: 1.0185 - val_accuracy: 0.5188\n",
      "Epoch 15/20\n",
      "60000/60000 [==============================] - 1s 24us/sample - loss: 1.0176 - accuracy: 0.5215 - val_loss: 1.0136 - val_accuracy: 0.5390\n",
      "Epoch 16/20\n",
      "60000/60000 [==============================] - 1s 23us/sample - loss: 1.0124 - accuracy: 0.5569 - val_loss: 1.0079 - val_accuracy: 0.5864\n",
      "Epoch 17/20\n",
      "60000/60000 [==============================] - 1s 24us/sample - loss: 1.0062 - accuracy: 0.6116 - val_loss: 1.0013 - val_accuracy: 0.6364\n",
      "Epoch 18/20\n",
      "60000/60000 [==============================] - 1s 24us/sample - loss: 1.0001 - accuracy: 0.6451 - val_loss: 0.9955 - val_accuracy: 0.6616\n",
      "Epoch 19/20\n",
      "60000/60000 [==============================] - 2s 25us/sample - loss: 0.9947 - accuracy: 0.6628 - val_loss: 0.9904 - val_accuracy: 0.6755\n",
      "Epoch 20/20\n",
      "60000/60000 [==============================] - 1s 23us/sample - loss: 0.9901 - accuracy: 0.6732 - val_loss: 0.9861 - val_accuracy: 0.6835\n"
     ]
    },
    {
     "data": {
      "text/plain": [
       "<tensorflow.python.keras.callbacks.History at 0x25928b146c8>"
      ]
     },
     "execution_count": 14,
     "metadata": {},
     "output_type": "execute_result"
    }
   ],
   "source": [
    "model = Sequential()\n",
    "model.add(Dense(128, input_shape=shape_of_first, activation='relu'))\n",
    "model.add(Dense(64, activation='relu'))\n",
    "model.add(Dense(10, activation='softmax'))\n",
    "model.compile(optimizer='sgd', loss='hinge', metrics=['accuracy'])\n",
    "model.fit(x_train, y_train, batch_size=batch_size, epochs=20, verbose=1, validation_data=(x_test, y_test))"
   ]
  },
  {
   "cell_type": "markdown",
   "metadata": {},
   "source": [
    "#### Compare the result of each model with the result of the same model from the previous task. Which loss function did perform better?"
   ]
  },
  {
   "cell_type": "markdown",
   "metadata": {},
   "source": [
    "When comparing the models with respect to hinge being their new common loss function the ranking is as follows: the tanh activation function scored the highest with a 74% test accuracy, relu scored the next highest with 68% test accuracy, and the sigmoid activation function performed the worst with only a 10% test accuracy.\n",
    "\n",
    "If we look at these three models' scores compared to the previous three it is easier to conclude that the categorical crossentropy loss function provided a higher test accuracy overall for this particular dataset."
   ]
  },
  {
   "cell_type": "code",
   "execution_count": null,
   "metadata": {},
   "outputs": [],
   "source": []
  }
 ],
 "metadata": {
  "kernelspec": {
   "display_name": "Python 3",
   "language": "python",
   "name": "python3"
  },
  "language_info": {
   "codemirror_mode": {
    "name": "ipython",
    "version": 3
   },
   "file_extension": ".py",
   "mimetype": "text/x-python",
   "name": "python",
   "nbconvert_exporter": "python",
   "pygments_lexer": "ipython3",
   "version": "3.7.6"
  }
 },
 "nbformat": 4,
 "nbformat_minor": 4
}
