{
 "cells": [
  {
   "cell_type": "code",
   "execution_count": 11,
   "metadata": {},
   "outputs": [],
   "source": [
    "import warnings\n",
    "warnings.filterwarnings('ignore')\n",
    "\n",
    "from tensorflow.keras.datasets import mnist\n",
    "from tensorflow.keras.models import Sequential\n",
    "from tensorflow.keras.layers import Dense\n",
    "from tensorflow.keras.utils import to_categorical\n",
    "from tensorflow.keras.optimizers import SGD\n",
    "import matplotlib.pyplot as plt"
   ]
  },
  {
   "cell_type": "code",
   "execution_count": 2,
   "metadata": {},
   "outputs": [],
   "source": [
    "(x_train, y_train), (x_test, y_test) = mnist.load_data()\n",
    "\n",
    "\n",
    "input_dim = 28 * 28 # pixel length and width of each image\n",
    "output_dim = nb_classes = 10\n",
    "nb_epoch = 20\n",
    "\n",
    "x_train = x_train.reshape(60000, input_dim)\n",
    "x_test = x_test.reshape(10000, input_dim)\n",
    "x_train = x_train.astype('float32')\n",
    "x_test = x_test.astype('float32')\n",
    "x_train /= 255 # normalize by dividing by maximum pixel value\n",
    "x_test /= 255"
   ]
  },
  {
   "cell_type": "code",
   "execution_count": 3,
   "metadata": {},
   "outputs": [],
   "source": [
    "y_train = to_categorical(y_train, nb_classes)\n",
    "y_test = to_categorical(y_test, nb_classes)"
   ]
  },
  {
   "cell_type": "code",
   "execution_count": 4,
   "metadata": {},
   "outputs": [],
   "source": [
    "shape_of_first = x_train[0].shape"
   ]
  },
  {
   "cell_type": "code",
   "execution_count": 5,
   "metadata": {},
   "outputs": [
    {
     "data": {
      "image/png": "[encoded data removed]",
      "text/plain": [
       "<Figure size 1440x360 with 4 Axes>"
      ]
     },
     "metadata": {
      "needs_background": "light"
     },
     "output_type": "display_data"
    }
   ],
   "source": [
    "plt.figure(figsize=(20,5))\n",
    "\n",
    "plt.subplot(141)\n",
    "plt.imshow(x_train[123].reshape(28,28), cmap=\"gray\")\n",
    "plt.title(\"Label of the image: {}\".format(y_train[123]))\n",
    "\n",
    "plt.subplot(142)\n",
    "plt.imshow(x_train[124].reshape(28,28), cmap=\"gray\")\n",
    "plt.title(\"Label of the image: {}\".format(y_train[124]))\n",
    "\n",
    "plt.subplot(143)\n",
    "plt.imshow(x_train[125].reshape(28,28), cmap=\"gray\")\n",
    "plt.title(\"Label of the image: {}\".format(y_train[125]))\n",
    "\n",
    "plt.subplot(144)\n",
    "plt.imshow(x_train[126].reshape(28,28), cmap=\"gray\")\n",
    "plt.title(\"Label of the image: {}\".format(y_train[126]))\n",
    "\n",
    "plt.show()"
   ]
  },
  {
   "cell_type": "markdown",
   "metadata": {},
   "source": [
    "### 1) In this task, you'll implement several ANN models with different batch sizes. Specifically:"
   ]
  },
  {
   "cell_type": "markdown",
   "metadata": {},
   "source": [
    "#### Implement a three layer ANN model with 128, 64 and 10 neurons in the layers using 8 as the mini batch size."
   ]
  },
  {
   "cell_type": "code",
   "execution_count": 6,
   "metadata": {},
   "outputs": [
    {
     "name": "stdout",
     "output_type": "stream",
     "text": [
      "Train on 60000 samples, validate on 10000 samples\n",
      "Epoch 1/20\n",
      "WARNING:tensorflow:Entity <function Function._initialize_uninitialized_variables.<locals>.initialize_variables at 0x000001369931C5E8> could not be transformed and will be executed as-is. Please report this to the AutoGraph team. When filing the bug, set the verbosity to 10 (on Linux, `export AUTOGRAPH_VERBOSITY=10`) and attach the full output. Cause: module 'gast' has no attribute 'Num'\n",
      "WARNING: Entity <function Function._initialize_uninitialized_variables.<locals>.initialize_variables at 0x000001369931C5E8> could not be transformed and will be executed as-is. Please report this to the AutoGraph team. When filing the bug, set the verbosity to 10 (on Linux, `export AUTOGRAPH_VERBOSITY=10`) and attach the full output. Cause: module 'gast' has no attribute 'Num'\n",
      "60000/60000 [==============================] - 15s 243us/sample - loss: 0.3699 - accuracy: 0.8951 - val_loss: 0.2099 - val_accuracy: 0.9398\n",
      "Epoch 2/20\n",
      "60000/60000 [==============================] - 14s 227us/sample - loss: 0.1772 - accuracy: 0.9475 - val_loss: 0.1417 - val_accuracy: 0.9580\n",
      "Epoch 3/20\n",
      "60000/60000 [==============================] - 14s 231us/sample - loss: 0.1267 - accuracy: 0.9636 - val_loss: 0.1153 - val_accuracy: 0.9658\n",
      "Epoch 4/20\n",
      "60000/60000 [==============================] - 14s 227us/sample - loss: 0.0982 - accuracy: 0.9712 - val_loss: 0.1008 - val_accuracy: 0.9690\n",
      "Epoch 5/20\n",
      "60000/60000 [==============================] - 14s 225us/sample - loss: 0.0803 - accuracy: 0.9757 - val_loss: 0.0910 - val_accuracy: 0.9723\n",
      "Epoch 6/20\n",
      "60000/60000 [==============================] - 14s 228us/sample - loss: 0.0675 - accuracy: 0.9796 - val_loss: 0.0879 - val_accuracy: 0.9736\n",
      "Epoch 7/20\n",
      "60000/60000 [==============================] - 14s 230us/sample - loss: 0.0585 - accuracy: 0.9823 - val_loss: 0.0860 - val_accuracy: 0.9727\n",
      "Epoch 8/20\n",
      "60000/60000 [==============================] - 14s 227us/sample - loss: 0.0499 - accuracy: 0.9858 - val_loss: 0.0793 - val_accuracy: 0.9746\n",
      "Epoch 9/20\n",
      "60000/60000 [==============================] - 14s 226us/sample - loss: 0.0430 - accuracy: 0.9871 - val_loss: 0.0798 - val_accuracy: 0.9746\n",
      "Epoch 10/20\n",
      "60000/60000 [==============================] - 14s 228us/sample - loss: 0.0374 - accuracy: 0.9894 - val_loss: 0.0755 - val_accuracy: 0.9762\n",
      "Epoch 11/20\n",
      "60000/60000 [==============================] - 14s 228us/sample - loss: 0.0323 - accuracy: 0.9911 - val_loss: 0.0776 - val_accuracy: 0.9747\n",
      "Epoch 12/20\n",
      "60000/60000 [==============================] - 14s 226us/sample - loss: 0.0283 - accuracy: 0.9919 - val_loss: 0.0798 - val_accuracy: 0.9762\n",
      "Epoch 13/20\n",
      "60000/60000 [==============================] - 14s 225us/sample - loss: 0.0243 - accuracy: 0.9931 - val_loss: 0.0741 - val_accuracy: 0.9784\n",
      "Epoch 14/20\n",
      "60000/60000 [==============================] - 14s 236us/sample - loss: 0.0210 - accuracy: 0.9945 - val_loss: 0.0743 - val_accuracy: 0.9781\n",
      "Epoch 15/20\n",
      "60000/60000 [==============================] - 15s 245us/sample - loss: 0.0185 - accuracy: 0.9951 - val_loss: 0.0742 - val_accuracy: 0.9772\n",
      "Epoch 16/20\n",
      "60000/60000 [==============================] - 14s 230us/sample - loss: 0.0156 - accuracy: 0.9964 - val_loss: 0.0765 - val_accuracy: 0.9793\n",
      "Epoch 17/20\n",
      "60000/60000 [==============================] - 13s 224us/sample - loss: 0.0138 - accuracy: 0.9968 - val_loss: 0.0785 - val_accuracy: 0.9771\n",
      "Epoch 18/20\n",
      "60000/60000 [==============================] - 14s 229us/sample - loss: 0.0113 - accuracy: 0.9979 - val_loss: 0.0824 - val_accuracy: 0.9752\n",
      "Epoch 19/20\n",
      "60000/60000 [==============================] - 14s 235us/sample - loss: 0.0098 - accuracy: 0.9981 - val_loss: 0.0787 - val_accuracy: 0.9775\n",
      "Epoch 20/20\n",
      "60000/60000 [==============================] - 14s 232us/sample - loss: 0.0084 - accuracy: 0.9987 - val_loss: 0.0786 - val_accuracy: 0.9780\n"
     ]
    },
    {
     "data": {
      "text/plain": [
       "<tensorflow.python.keras.callbacks.History at 0x13699309bc8>"
      ]
     },
     "execution_count": 6,
     "metadata": {},
     "output_type": "execute_result"
    }
   ],
   "source": [
    "model = Sequential()\n",
    "model.add(Dense(128, input_shape=shape_of_first, activation ='relu'))\n",
    "model.add(Dense(64, activation='relu'))\n",
    "model.add(Dense(10, activation='softmax'))\n",
    "model.compile(optimizer='sgd', loss='categorical_crossentropy', metrics=['accuracy'])\n",
    "model.fit(x_train, y_train, batch_size=8, epochs=20, verbose=1, validation_data=(x_test, y_test))"
   ]
  },
  {
   "cell_type": "markdown",
   "metadata": {},
   "source": [
    "#### Implement a three layer ANN model with 128, 64 and 10 neurons in the layers using 128 as the mini batch size."
   ]
  },
  {
   "cell_type": "code",
   "execution_count": 7,
   "metadata": {},
   "outputs": [
    {
     "name": "stdout",
     "output_type": "stream",
     "text": [
      "Train on 60000 samples, validate on 10000 samples\n",
      "Epoch 1/20\n",
      "WARNING:tensorflow:Entity <function Function._initialize_uninitialized_variables.<locals>.initialize_variables at 0x00000136995B5798> could not be transformed and will be executed as-is. Please report this to the AutoGraph team. When filing the bug, set the verbosity to 10 (on Linux, `export AUTOGRAPH_VERBOSITY=10`) and attach the full output. Cause: module 'gast' has no attribute 'Num'\n",
      "WARNING: Entity <function Function._initialize_uninitialized_variables.<locals>.initialize_variables at 0x00000136995B5798> could not be transformed and will be executed as-is. Please report this to the AutoGraph team. When filing the bug, set the verbosity to 10 (on Linux, `export AUTOGRAPH_VERBOSITY=10`) and attach the full output. Cause: module 'gast' has no attribute 'Num'\n",
      "60000/60000 [==============================] - 1s 24us/sample - loss: 1.2442 - accuracy: 0.6886 - val_loss: 0.6150 - val_accuracy: 0.8539\n",
      "Epoch 2/20\n",
      "60000/60000 [==============================] - 1s 20us/sample - loss: 0.5044 - accuracy: 0.8700 - val_loss: 0.4060 - val_accuracy: 0.8942\n",
      "Epoch 3/20\n",
      "60000/60000 [==============================] - 1s 20us/sample - loss: 0.3861 - accuracy: 0.8946 - val_loss: 0.3424 - val_accuracy: 0.9053\n",
      "Epoch 4/20\n",
      "60000/60000 [==============================] - 1s 20us/sample - loss: 0.3372 - accuracy: 0.9051 - val_loss: 0.3093 - val_accuracy: 0.9120\n",
      "Epoch 5/20\n",
      "60000/60000 [==============================] - 1s 20us/sample - loss: 0.3085 - accuracy: 0.9127 - val_loss: 0.2887 - val_accuracy: 0.9189\n",
      "Epoch 6/20\n",
      "60000/60000 [==============================] - 1s 20us/sample - loss: 0.2877 - accuracy: 0.9178 - val_loss: 0.2708 - val_accuracy: 0.9238\n",
      "Epoch 7/20\n",
      "60000/60000 [==============================] - 1s 20us/sample - loss: 0.2717 - accuracy: 0.9229 - val_loss: 0.2591 - val_accuracy: 0.9274\n",
      "Epoch 8/20\n",
      "60000/60000 [==============================] - 1s 20us/sample - loss: 0.2586 - accuracy: 0.9259 - val_loss: 0.2463 - val_accuracy: 0.9293\n",
      "Epoch 9/20\n",
      "60000/60000 [==============================] - 1s 21us/sample - loss: 0.2470 - accuracy: 0.9303 - val_loss: 0.2370 - val_accuracy: 0.9329\n",
      "Epoch 10/20\n",
      "60000/60000 [==============================] - 1s 20us/sample - loss: 0.2370 - accuracy: 0.9325 - val_loss: 0.2274 - val_accuracy: 0.9357\n",
      "Epoch 11/20\n",
      "60000/60000 [==============================] - 1s 20us/sample - loss: 0.2278 - accuracy: 0.9352 - val_loss: 0.2215 - val_accuracy: 0.9367\n",
      "Epoch 12/20\n",
      "60000/60000 [==============================] - 1s 20us/sample - loss: 0.2196 - accuracy: 0.9379 - val_loss: 0.2147 - val_accuracy: 0.9391\n",
      "Epoch 13/20\n",
      "60000/60000 [==============================] - 1s 21us/sample - loss: 0.2121 - accuracy: 0.9400 - val_loss: 0.2088 - val_accuracy: 0.9400\n",
      "Epoch 14/20\n",
      "60000/60000 [==============================] - 1s 20us/sample - loss: 0.2051 - accuracy: 0.9418 - val_loss: 0.2016 - val_accuracy: 0.9413\n",
      "Epoch 15/20\n",
      "60000/60000 [==============================] - 1s 20us/sample - loss: 0.1983 - accuracy: 0.9442 - val_loss: 0.1962 - val_accuracy: 0.9429\n",
      "Epoch 16/20\n",
      "60000/60000 [==============================] - 1s 21us/sample - loss: 0.1926 - accuracy: 0.9457 - val_loss: 0.1906 - val_accuracy: 0.9441\n",
      "Epoch 17/20\n",
      "60000/60000 [==============================] - 1s 20us/sample - loss: 0.1868 - accuracy: 0.9477 - val_loss: 0.1866 - val_accuracy: 0.9445\n",
      "Epoch 18/20\n",
      "60000/60000 [==============================] - 1s 20us/sample - loss: 0.1815 - accuracy: 0.9489 - val_loss: 0.1833 - val_accuracy: 0.9462\n",
      "Epoch 19/20\n",
      "60000/60000 [==============================] - 1s 21us/sample - loss: 0.1765 - accuracy: 0.9504 - val_loss: 0.1788 - val_accuracy: 0.9468\n",
      "Epoch 20/20\n",
      "60000/60000 [==============================] - 1s 21us/sample - loss: 0.1718 - accuracy: 0.9517 - val_loss: 0.1736 - val_accuracy: 0.9483\n"
     ]
    },
    {
     "data": {
      "text/plain": [
       "<tensorflow.python.keras.callbacks.History at 0x1369b9f40c8>"
      ]
     },
     "execution_count": 7,
     "metadata": {},
     "output_type": "execute_result"
    }
   ],
   "source": [
    "model = Sequential()\n",
    "model.add(Dense(128, input_shape=shape_of_first, activation ='relu'))\n",
    "model.add(Dense(64, activation='relu'))\n",
    "model.add(Dense(10, activation='softmax'))\n",
    "model.compile(optimizer='sgd', loss='categorical_crossentropy', metrics=['accuracy'])\n",
    "model.fit(x_train, y_train, batch_size=128, epochs=20, verbose=1, validation_data=(x_test, y_test))"
   ]
  },
  {
   "cell_type": "markdown",
   "metadata": {},
   "source": [
    "#### Implement a three layer ANN model with 128, 64 and 10 neurons in the layers using the full sample as the batch."
   ]
  },
  {
   "cell_type": "code",
   "execution_count": 8,
   "metadata": {},
   "outputs": [
    {
     "name": "stdout",
     "output_type": "stream",
     "text": [
      "Train on 60000 samples, validate on 10000 samples\n",
      "Epoch 1/20\n",
      "WARNING:tensorflow:Entity <function Function._initialize_uninitialized_variables.<locals>.initialize_variables at 0x00000135C8123438> could not be transformed and will be executed as-is. Please report this to the AutoGraph team. When filing the bug, set the verbosity to 10 (on Linux, `export AUTOGRAPH_VERBOSITY=10`) and attach the full output. Cause: module 'gast' has no attribute 'Num'\n",
      "WARNING: Entity <function Function._initialize_uninitialized_variables.<locals>.initialize_variables at 0x00000135C8123438> could not be transformed and will be executed as-is. Please report this to the AutoGraph team. When filing the bug, set the verbosity to 10 (on Linux, `export AUTOGRAPH_VERBOSITY=10`) and attach the full output. Cause: module 'gast' has no attribute 'Num'\n",
      "60000/60000 [==============================] - 1s 12us/sample - loss: 2.1422 - accuracy: 0.2723 - val_loss: 1.9166 - val_accuracy: 0.4583\n",
      "Epoch 2/20\n",
      "60000/60000 [==============================] - 0s 6us/sample - loss: 1.7108 - accuracy: 0.5844 - val_loss: 1.4627 - val_accuracy: 0.6791\n",
      "Epoch 3/20\n",
      "60000/60000 [==============================] - 0s 6us/sample - loss: 1.2882 - accuracy: 0.7173 - val_loss: 1.0883 - val_accuracy: 0.7553\n",
      "Epoch 4/20\n",
      "60000/60000 [==============================] - 0s 6us/sample - loss: 0.9868 - accuracy: 0.7715 - val_loss: 0.8560 - val_accuracy: 0.8007\n",
      "Epoch 5/20\n",
      "60000/60000 [==============================] - 0s 6us/sample - loss: 0.8048 - accuracy: 0.8058 - val_loss: 0.7168 - val_accuracy: 0.8264\n",
      "Epoch 6/20\n",
      "60000/60000 [==============================] - 0s 6us/sample - loss: 0.6916 - accuracy: 0.8279 - val_loss: 0.6264 - val_accuracy: 0.8459\n",
      "Epoch 7/20\n",
      "60000/60000 [==============================] - 0s 6us/sample - loss: 0.6162 - accuracy: 0.8432 - val_loss: 0.5643 - val_accuracy: 0.8571\n",
      "Epoch 8/20\n",
      "60000/60000 [==============================] - 0s 6us/sample - loss: 0.5625 - accuracy: 0.8536 - val_loss: 0.5190 - val_accuracy: 0.8670\n",
      "Epoch 9/20\n",
      "60000/60000 [==============================] - 0s 6us/sample - loss: 0.5224 - accuracy: 0.8623 - val_loss: 0.4847 - val_accuracy: 0.8746\n",
      "Epoch 10/20\n",
      "60000/60000 [==============================] - 0s 6us/sample - loss: 0.4914 - accuracy: 0.8690 - val_loss: 0.4580 - val_accuracy: 0.8790\n",
      "Epoch 11/20\n",
      "60000/60000 [==============================] - 0s 6us/sample - loss: 0.4665 - accuracy: 0.8750 - val_loss: 0.4361 - val_accuracy: 0.8839\n",
      "Epoch 12/20\n",
      "60000/60000 [==============================] - 0s 6us/sample - loss: 0.4459 - accuracy: 0.8794 - val_loss: 0.4178 - val_accuracy: 0.8859\n",
      "Epoch 13/20\n",
      "60000/60000 [==============================] - 0s 6us/sample - loss: 0.4288 - accuracy: 0.8829 - val_loss: 0.4031 - val_accuracy: 0.8914\n",
      "Epoch 14/20\n",
      "60000/60000 [==============================] - 0s 6us/sample - loss: 0.4142 - accuracy: 0.8859 - val_loss: 0.3896 - val_accuracy: 0.8944\n",
      "Epoch 15/20\n",
      "60000/60000 [==============================] - 0s 6us/sample - loss: 0.4015 - accuracy: 0.8889 - val_loss: 0.3782 - val_accuracy: 0.8967\n",
      "Epoch 16/20\n",
      "60000/60000 [==============================] - 0s 6us/sample - loss: 0.3904 - accuracy: 0.8917 - val_loss: 0.3683 - val_accuracy: 0.8988\n",
      "Epoch 17/20\n",
      "60000/60000 [==============================] - 0s 6us/sample - loss: 0.3805 - accuracy: 0.8946 - val_loss: 0.3600 - val_accuracy: 0.8989\n",
      "Epoch 18/20\n",
      "60000/60000 [==============================] - 0s 6us/sample - loss: 0.3718 - accuracy: 0.8964 - val_loss: 0.3517 - val_accuracy: 0.9018\n",
      "Epoch 19/20\n",
      "60000/60000 [==============================] - 0s 6us/sample - loss: 0.3638 - accuracy: 0.8988 - val_loss: 0.3450 - val_accuracy: 0.9023\n",
      "Epoch 20/20\n",
      "60000/60000 [==============================] - 0s 6us/sample - loss: 0.3565 - accuracy: 0.9001 - val_loss: 0.3384 - val_accuracy: 0.9044\n"
     ]
    },
    {
     "data": {
      "text/plain": [
       "<tensorflow.python.keras.callbacks.History at 0x136a3b28148>"
      ]
     },
     "execution_count": 8,
     "metadata": {},
     "output_type": "execute_result"
    }
   ],
   "source": [
    "model = Sequential()\n",
    "model.add(Dense(128, input_shape=shape_of_first, activation ='relu'))\n",
    "model.add(Dense(64, activation='relu'))\n",
    "model.add(Dense(10, activation='softmax'))\n",
    "model.compile(optimizer='sgd', loss='categorical_crossentropy', metrics=['accuracy'])\n",
    "model.fit(x_train, y_train, batch_size=x_train.shape[1], epochs=20, verbose=1, validation_data=(x_test, y_test))"
   ]
  },
  {
   "cell_type": "markdown",
   "metadata": {},
   "source": [
    "#### Compare the result of each model with each other. Which batch size did perform better?"
   ]
  },
  {
   "cell_type": "markdown",
   "metadata": {},
   "source": [
    "The model with the lowest batch size performed the best at 97% test accuracy, but took significantly longer at around 14sec per epoch. Both the runtime and accuracy are inversely scaled with batch size with the second model coming in second in both accuracy and runtime and the last model having the worst accuracy at 90%, but a significantly faster runtime at only 6 microseconds per epoch"
   ]
  },
  {
   "cell_type": "markdown",
   "metadata": {},
   "source": [
    "### 2) In this task, you'll implement several ANN models with different learning rates for the stochastic gradient descent. In all of the models below, use 128 as your mini batch size."
   ]
  },
  {
   "cell_type": "markdown",
   "metadata": {},
   "source": [
    "#### Implement a three layer ANN model with 128, 64 and 10 neurons in the layers using 0.01 as the learning rate."
   ]
  },
  {
   "cell_type": "code",
   "execution_count": 12,
   "metadata": {},
   "outputs": [
    {
     "name": "stdout",
     "output_type": "stream",
     "text": [
      "Train on 60000 samples, validate on 10000 samples\n",
      "Epoch 1/20\n",
      "WARNING:tensorflow:Entity <function Function._initialize_uninitialized_variables.<locals>.initialize_variables at 0x00000136A3A39438> could not be transformed and will be executed as-is. Please report this to the AutoGraph team. When filing the bug, set the verbosity to 10 (on Linux, `export AUTOGRAPH_VERBOSITY=10`) and attach the full output. Cause: module 'gast' has no attribute 'Num'\n",
      "WARNING: Entity <function Function._initialize_uninitialized_variables.<locals>.initialize_variables at 0x00000136A3A39438> could not be transformed and will be executed as-is. Please report this to the AutoGraph team. When filing the bug, set the verbosity to 10 (on Linux, `export AUTOGRAPH_VERBOSITY=10`) and attach the full output. Cause: module 'gast' has no attribute 'Num'\n",
      "60000/60000 [==============================] - 1s 24us/sample - loss: 1.2807 - accuracy: 0.6712 - val_loss: 0.6076 - val_accuracy: 0.8521\n",
      "Epoch 2/20\n",
      "60000/60000 [==============================] - 1s 20us/sample - loss: 0.5013 - accuracy: 0.8684 - val_loss: 0.4046 - val_accuracy: 0.8905\n",
      "Epoch 3/20\n",
      "60000/60000 [==============================] - 1s 20us/sample - loss: 0.3860 - accuracy: 0.8935 - val_loss: 0.3419 - val_accuracy: 0.9051\n",
      "Epoch 4/20\n",
      "60000/60000 [==============================] - 1s 20us/sample - loss: 0.3389 - accuracy: 0.9051 - val_loss: 0.3107 - val_accuracy: 0.9122\n",
      "Epoch 5/20\n",
      "60000/60000 [==============================] - 1s 20us/sample - loss: 0.3106 - accuracy: 0.9118 - val_loss: 0.2909 - val_accuracy: 0.9176\n",
      "Epoch 6/20\n",
      "60000/60000 [==============================] - 1s 21us/sample - loss: 0.2903 - accuracy: 0.9175 - val_loss: 0.2723 - val_accuracy: 0.9230\n",
      "Epoch 7/20\n",
      "60000/60000 [==============================] - 1s 21us/sample - loss: 0.2739 - accuracy: 0.9217 - val_loss: 0.2583 - val_accuracy: 0.9269\n",
      "Epoch 8/20\n",
      "60000/60000 [==============================] - 1s 21us/sample - loss: 0.2598 - accuracy: 0.9256 - val_loss: 0.2477 - val_accuracy: 0.9310\n",
      "Epoch 9/20\n",
      "60000/60000 [==============================] - 1s 21us/sample - loss: 0.2482 - accuracy: 0.9292 - val_loss: 0.2368 - val_accuracy: 0.9335\n",
      "Epoch 10/20\n",
      "60000/60000 [==============================] - 1s 22us/sample - loss: 0.2373 - accuracy: 0.9327 - val_loss: 0.2277 - val_accuracy: 0.9333\n",
      "Epoch 11/20\n",
      "60000/60000 [==============================] - 1s 20us/sample - loss: 0.2274 - accuracy: 0.9349 - val_loss: 0.2201 - val_accuracy: 0.9372\n",
      "Epoch 12/20\n",
      "60000/60000 [==============================] - 1s 21us/sample - loss: 0.2185 - accuracy: 0.9375 - val_loss: 0.2129 - val_accuracy: 0.9394\n",
      "Epoch 13/20\n",
      "60000/60000 [==============================] - 1s 20us/sample - loss: 0.2104 - accuracy: 0.9405 - val_loss: 0.2054 - val_accuracy: 0.9394\n",
      "Epoch 14/20\n",
      "60000/60000 [==============================] - 1s 20us/sample - loss: 0.2026 - accuracy: 0.9421 - val_loss: 0.1979 - val_accuracy: 0.9419\n",
      "Epoch 15/20\n",
      "60000/60000 [==============================] - 1s 20us/sample - loss: 0.1956 - accuracy: 0.9440 - val_loss: 0.1919 - val_accuracy: 0.9435\n",
      "Epoch 16/20\n",
      "60000/60000 [==============================] - 1s 20us/sample - loss: 0.1890 - accuracy: 0.9462 - val_loss: 0.1863 - val_accuracy: 0.9456\n",
      "Epoch 17/20\n",
      "60000/60000 [==============================] - 1s 20us/sample - loss: 0.1826 - accuracy: 0.9483 - val_loss: 0.1805 - val_accuracy: 0.9465\n",
      "Epoch 18/20\n",
      "60000/60000 [==============================] - 1s 20us/sample - loss: 0.1769 - accuracy: 0.9500 - val_loss: 0.1763 - val_accuracy: 0.9483\n",
      "Epoch 19/20\n",
      "60000/60000 [==============================] - 1s 21us/sample - loss: 0.1714 - accuracy: 0.9516 - val_loss: 0.1719 - val_accuracy: 0.9485\n",
      "Epoch 20/20\n",
      "60000/60000 [==============================] - 1s 20us/sample - loss: 0.1663 - accuracy: 0.9523 - val_loss: 0.1663 - val_accuracy: 0.9499\n"
     ]
    },
    {
     "data": {
      "text/plain": [
       "<tensorflow.python.keras.callbacks.History at 0x136a75bcfc8>"
      ]
     },
     "execution_count": 12,
     "metadata": {},
     "output_type": "execute_result"
    }
   ],
   "source": [
    "opt = SGD(lr=.01)\n",
    "model = Sequential()\n",
    "model.add(Dense(128, input_shape=shape_of_first, activation ='relu'))\n",
    "model.add(Dense(64, activation='relu'))\n",
    "model.add(Dense(10, activation='softmax'))\n",
    "model.compile(optimizer=opt, loss='categorical_crossentropy', metrics=['accuracy'])\n",
    "model.fit(x_train, y_train, batch_size=128, epochs=20, verbose=1, validation_data=(x_test, y_test))"
   ]
  },
  {
   "cell_type": "markdown",
   "metadata": {},
   "source": [
    "#### Implement a three layer ANN model with 128, 64 and 10 neurons in the layers using 100 as the learning rate."
   ]
  },
  {
   "cell_type": "code",
   "execution_count": 13,
   "metadata": {},
   "outputs": [
    {
     "name": "stdout",
     "output_type": "stream",
     "text": [
      "Train on 60000 samples, validate on 10000 samples\n",
      "Epoch 1/20\n",
      "WARNING:tensorflow:Entity <function Function._initialize_uninitialized_variables.<locals>.initialize_variables at 0x00000136A5EC4948> could not be transformed and will be executed as-is. Please report this to the AutoGraph team. When filing the bug, set the verbosity to 10 (on Linux, `export AUTOGRAPH_VERBOSITY=10`) and attach the full output. Cause: module 'gast' has no attribute 'Num'\n",
      "WARNING: Entity <function Function._initialize_uninitialized_variables.<locals>.initialize_variables at 0x00000136A5EC4948> could not be transformed and will be executed as-is. Please report this to the AutoGraph team. When filing the bug, set the verbosity to 10 (on Linux, `export AUTOGRAPH_VERBOSITY=10`) and attach the full output. Cause: module 'gast' has no attribute 'Num'\n",
      "60000/60000 [==============================] - 2s 27us/sample - loss: 969556992.3459 - accuracy: 0.1141 - val_loss: 27488.5248 - val_accuracy: 0.1135\n",
      "Epoch 2/20\n",
      "60000/60000 [==============================] - 1s 23us/sample - loss: 39.1187 - accuracy: 0.1144 - val_loss: 27485.2907 - val_accuracy: 0.1172\n",
      "Epoch 3/20\n",
      "60000/60000 [==============================] - 1s 22us/sample - loss: 38.3596 - accuracy: 0.1163 - val_loss: 27484.8869 - val_accuracy: 0.1124\n",
      "Epoch 4/20\n",
      "60000/60000 [==============================] - 2s 26us/sample - loss: 38.4454 - accuracy: 0.1140 - val_loss: 27487.0823 - val_accuracy: 0.1135\n",
      "Epoch 5/20\n",
      "60000/60000 [==============================] - 1s 22us/sample - loss: 38.7560 - accuracy: 0.1141 - val_loss: 27480.3379 - val_accuracy: 0.1176\n",
      "Epoch 6/20\n",
      "60000/60000 [==============================] - 1s 23us/sample - loss: 39.3441 - accuracy: 0.1120 - val_loss: 27474.4396 - val_accuracy: 0.1176\n",
      "Epoch 7/20\n",
      "60000/60000 [==============================] - 1s 23us/sample - loss: 38.8274 - accuracy: 0.1135 - val_loss: 27490.4489 - val_accuracy: 0.1101\n",
      "Epoch 8/20\n",
      "60000/60000 [==============================] - 1s 24us/sample - loss: 39.0798 - accuracy: 0.1139 - val_loss: 27481.8802 - val_accuracy: 0.1124\n",
      "Epoch 9/20\n",
      "60000/60000 [==============================] - 2s 25us/sample - loss: 38.4454 - accuracy: 0.1142 - val_loss: 27493.2514 - val_accuracy: 0.1154\n",
      "Epoch 10/20\n",
      "60000/60000 [==============================] - 2s 25us/sample - loss: 40.0558 - accuracy: 0.1123 - val_loss: 27480.4681 - val_accuracy: 0.1126\n",
      "Epoch 11/20\n",
      "60000/60000 [==============================] - 1s 25us/sample - loss: 39.4864 - accuracy: 0.1137 - val_loss: 27487.7171 - val_accuracy: 0.1154\n",
      "Epoch 12/20\n",
      "60000/60000 [==============================] - 1s 24us/sample - loss: 39.5944 - accuracy: 0.1154 - val_loss: 27486.6522 - val_accuracy: 0.1036\n",
      "Epoch 13/20\n",
      "60000/60000 [==============================] - 1s 24us/sample - loss: 39.0354 - accuracy: 0.1160 - val_loss: 27481.9453 - val_accuracy: 0.1126\n",
      "Epoch 14/20\n",
      "60000/60000 [==============================] - 1s 24us/sample - loss: 39.7224 - accuracy: 0.1127 - val_loss: 27487.4364 - val_accuracy: 0.1176\n",
      "Epoch 15/20\n",
      "60000/60000 [==============================] - 1s 24us/sample - loss: 38.8026 - accuracy: 0.1141 - val_loss: 27481.0657 - val_accuracy: 0.1036\n",
      "Epoch 16/20\n",
      "60000/60000 [==============================] - 1s 23us/sample - loss: 38.6228 - accuracy: 0.1152 - val_loss: 27482.3470 - val_accuracy: 0.1101\n",
      "Epoch 17/20\n",
      "60000/60000 [==============================] - 1s 24us/sample - loss: 38.9645 - accuracy: 0.1116 - val_loss: 27481.1643 - val_accuracy: 0.1036\n",
      "Epoch 18/20\n",
      "60000/60000 [==============================] - 1s 23us/sample - loss: 39.3692 - accuracy: 0.1140 - val_loss: 27486.5643 - val_accuracy: 0.1154\n",
      "Epoch 19/20\n",
      "60000/60000 [==============================] - 1s 24us/sample - loss: 38.9389 - accuracy: 0.1151 - val_loss: 27480.8939 - val_accuracy: 0.1101\n",
      "Epoch 20/20\n",
      "60000/60000 [==============================] - 1s 22us/sample - loss: 39.6827 - accuracy: 0.1133 - val_loss: 27477.0436 - val_accuracy: 0.1124\n"
     ]
    },
    {
     "data": {
      "text/plain": [
       "<tensorflow.python.keras.callbacks.History at 0x136a5edc908>"
      ]
     },
     "execution_count": 13,
     "metadata": {},
     "output_type": "execute_result"
    }
   ],
   "source": [
    "opt = SGD(lr=100)\n",
    "model = Sequential()\n",
    "model.add(Dense(128, input_shape=shape_of_first, activation ='relu'))\n",
    "model.add(Dense(64, activation='relu'))\n",
    "model.add(Dense(10, activation='softmax'))\n",
    "model.compile(optimizer=opt, loss='categorical_crossentropy', metrics=['accuracy'])\n",
    "model.fit(x_train, y_train, batch_size=128, epochs=20, verbose=1, validation_data=(x_test, y_test))"
   ]
  },
  {
   "cell_type": "markdown",
   "metadata": {},
   "source": [
    "#### Implement a three layer ANN model with 128, 64 and 10 neurons in the layers using 0.0000001 as the learning rate."
   ]
  },
  {
   "cell_type": "code",
   "execution_count": 14,
   "metadata": {},
   "outputs": [
    {
     "name": "stdout",
     "output_type": "stream",
     "text": [
      "Train on 60000 samples, validate on 10000 samples\n",
      "Epoch 1/20\n",
      "WARNING:tensorflow:Entity <function Function._initialize_uninitialized_variables.<locals>.initialize_variables at 0x00000136A5E5D8B8> could not be transformed and will be executed as-is. Please report this to the AutoGraph team. When filing the bug, set the verbosity to 10 (on Linux, `export AUTOGRAPH_VERBOSITY=10`) and attach the full output. Cause: module 'gast' has no attribute 'Num'\n",
      "WARNING: Entity <function Function._initialize_uninitialized_variables.<locals>.initialize_variables at 0x00000136A5E5D8B8> could not be transformed and will be executed as-is. Please report this to the AutoGraph team. When filing the bug, set the verbosity to 10 (on Linux, `export AUTOGRAPH_VERBOSITY=10`) and attach the full output. Cause: module 'gast' has no attribute 'Num'\n",
      "60000/60000 [==============================] - 2s 26us/sample - loss: 2.3666 - accuracy: 0.0970 - val_loss: 2.3685 - val_accuracy: 0.0947\n",
      "Epoch 2/20\n",
      "60000/60000 [==============================] - 1s 21us/sample - loss: 2.3666 - accuracy: 0.0970 - val_loss: 2.3684 - val_accuracy: 0.0947\n",
      "Epoch 3/20\n",
      "60000/60000 [==============================] - 1s 20us/sample - loss: 2.3665 - accuracy: 0.0970 - val_loss: 2.3684 - val_accuracy: 0.0947\n",
      "Epoch 4/20\n",
      "60000/60000 [==============================] - 1s 20us/sample - loss: 2.3665 - accuracy: 0.0970 - val_loss: 2.3684 - val_accuracy: 0.0947\n",
      "Epoch 5/20\n",
      "60000/60000 [==============================] - 1s 21us/sample - loss: 2.3665 - accuracy: 0.0970 - val_loss: 2.3684 - val_accuracy: 0.0948\n",
      "Epoch 6/20\n",
      "60000/60000 [==============================] - 1s 21us/sample - loss: 2.3665 - accuracy: 0.0970 - val_loss: 2.3684 - val_accuracy: 0.0948\n",
      "Epoch 7/20\n",
      "60000/60000 [==============================] - 1s 20us/sample - loss: 2.3665 - accuracy: 0.0970 - val_loss: 2.3684 - val_accuracy: 0.0948\n",
      "Epoch 8/20\n",
      "60000/60000 [==============================] - 1s 21us/sample - loss: 2.3665 - accuracy: 0.0970 - val_loss: 2.3683 - val_accuracy: 0.0948\n",
      "Epoch 9/20\n",
      "60000/60000 [==============================] - 1s 21us/sample - loss: 2.3664 - accuracy: 0.0970 - val_loss: 2.3683 - val_accuracy: 0.0948\n",
      "Epoch 10/20\n",
      "60000/60000 [==============================] - 1s 22us/sample - loss: 2.3664 - accuracy: 0.0970 - val_loss: 2.3683 - val_accuracy: 0.0948\n",
      "Epoch 11/20\n",
      "60000/60000 [==============================] - 1s 20us/sample - loss: 2.3664 - accuracy: 0.0970 - val_loss: 2.3683 - val_accuracy: 0.0948\n",
      "Epoch 12/20\n",
      "60000/60000 [==============================] - 1s 21us/sample - loss: 2.3664 - accuracy: 0.0970 - val_loss: 2.3683 - val_accuracy: 0.0948\n",
      "Epoch 13/20\n",
      "60000/60000 [==============================] - 1s 20us/sample - loss: 2.3664 - accuracy: 0.0970 - val_loss: 2.3683 - val_accuracy: 0.0948\n",
      "Epoch 14/20\n",
      "60000/60000 [==============================] - 1s 20us/sample - loss: 2.3664 - accuracy: 0.0970 - val_loss: 2.3682 - val_accuracy: 0.0948\n",
      "Epoch 15/20\n",
      "60000/60000 [==============================] - 1s 20us/sample - loss: 2.3664 - accuracy: 0.0971 - val_loss: 2.3682 - val_accuracy: 0.0949\n",
      "Epoch 16/20\n",
      "60000/60000 [==============================] - 1s 20us/sample - loss: 2.3663 - accuracy: 0.0971 - val_loss: 2.3682 - val_accuracy: 0.0949\n",
      "Epoch 17/20\n",
      "60000/60000 [==============================] - 1s 22us/sample - loss: 2.3663 - accuracy: 0.0971 - val_loss: 2.3682 - val_accuracy: 0.0949\n",
      "Epoch 18/20\n",
      "60000/60000 [==============================] - 1s 21us/sample - loss: 2.3663 - accuracy: 0.0971 - val_loss: 2.3682 - val_accuracy: 0.0949\n",
      "Epoch 19/20\n",
      "60000/60000 [==============================] - 1s 21us/sample - loss: 2.3663 - accuracy: 0.0971 - val_loss: 2.3682 - val_accuracy: 0.0949\n",
      "Epoch 20/20\n",
      "60000/60000 [==============================] - 1s 21us/sample - loss: 2.3663 - accuracy: 0.0971 - val_loss: 2.3681 - val_accuracy: 0.0949\n"
     ]
    },
    {
     "data": {
      "text/plain": [
       "<tensorflow.python.keras.callbacks.History at 0x136a757fc88>"
      ]
     },
     "execution_count": 14,
     "metadata": {},
     "output_type": "execute_result"
    }
   ],
   "source": [
    "opt = SGD(lr=.0000001)\n",
    "model = Sequential()\n",
    "model.add(Dense(128, input_shape=shape_of_first, activation ='relu'))\n",
    "model.add(Dense(64, activation='relu'))\n",
    "model.add(Dense(10, activation='softmax'))\n",
    "model.compile(optimizer=opt, loss='categorical_crossentropy', metrics=['accuracy'])\n",
    "model.fit(x_train, y_train, batch_size=128, epochs=20, verbose=1, validation_data=(x_test, y_test))"
   ]
  },
  {
   "cell_type": "markdown",
   "metadata": {},
   "source": [
    "#### Compare the result of each model with each other. Which learning rate did perform better?"
   ]
  },
  {
   "cell_type": "markdown",
   "metadata": {},
   "source": [
    "The smaller the learning rate, the higher the test accuracy, but both the models with learning rates closest to zero were fairly close in accuracy. The model with the lowest learning rate had an accuracy of 95%, butthe model overfit to the training data slightly better than the second lowest learning rate (which also had a test accuracy of 95%). The model with a learning rate of 100 had a terrible 11% test accuracy."
   ]
  },
  {
   "cell_type": "code",
   "execution_count": null,
   "metadata": {},
   "outputs": [],
   "source": []
  }
 ],
 "metadata": {
  "kernelspec": {
   "display_name": "Python 3",
   "language": "python",
   "name": "python3"
  },
  "language_info": {
   "codemirror_mode": {
    "name": "ipython",
    "version": 3
   },
   "file_extension": ".py",
   "mimetype": "text/x-python",
   "name": "python",
   "nbconvert_exporter": "python",
   "pygments_lexer": "ipython3",
   "version": "3.7.6"
  }
 },
 "nbformat": 4,
 "nbformat_minor": 4
}
