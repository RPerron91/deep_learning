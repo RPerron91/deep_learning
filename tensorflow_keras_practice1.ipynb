{
 "cells": [
  {
   "cell_type": "code",
   "execution_count": 1,
   "metadata": {},
   "outputs": [],
   "source": [
    "import warnings\n",
    "warnings.filterwarnings('ignore')\n",
    "\n",
    "from tensorflow.keras.datasets import mnist\n",
    "from tensorflow.keras.models import Sequential\n",
    "from tensorflow.keras.layers import Dense\n",
    "import matplotlib.pyplot as plt"
   ]
  },
  {
   "cell_type": "code",
   "execution_count": 2,
   "metadata": {},
   "outputs": [
    {
     "name": "stdout",
     "output_type": "stream",
     "text": [
      "Num GPUs Available:  1\n",
      "[name: \"/device:CPU:0\"\n",
      "device_type: \"CPU\"\n",
      "memory_limit: 268435456\n",
      "locality {\n",
      "}\n",
      "incarnation: 14818149505182915980\n",
      ", name: \"/device:GPU:0\"\n",
      "device_type: \"GPU\"\n",
      "memory_limit: 3141979340\n",
      "locality {\n",
      "  bus_id: 1\n",
      "  links {\n",
      "  }\n",
      "}\n",
      "incarnation: 1032192470647457328\n",
      "physical_device_desc: \"device: 0, name: GeForce GTX 1050 Ti, pci bus id: 0000:01:00.0, compute capability: 6.1\"\n",
      "]\n"
     ]
    }
   ],
   "source": [
    "# Checking to see if gpu is connected correctly\n",
    "import tensorflow as tf\n",
    "print(\"Num GPUs Available: \", len(tf.config.experimental.list_physical_devices('GPU')))\n",
    "from tensorflow.python.client import device_lib\n",
    "print(device_lib.list_local_devices())"
   ]
  },
  {
   "cell_type": "code",
   "execution_count": 4,
   "metadata": {},
   "outputs": [],
   "source": [
    "(x_train, y_train), (x_test, y_test) = mnist.load_data()\n",
    "\n",
    "\n",
    "input_dim = 28 * 28 # pixel length and width of each image\n",
    "output_dim = nb_classes = 10\n",
    "batch_size = 128\n",
    "nb_epoch = 20\n",
    "\n",
    "x_train = x_train.reshape(60000, input_dim)\n",
    "x_test = x_test.reshape(10000, input_dim)\n",
    "x_train = x_train.astype('float32')\n",
    "x_test = x_test.astype('float32')\n",
    "x_train /= 255 # normalize by dividing by maximum pixel value\n",
    "x_test /= 255"
   ]
  },
  {
   "cell_type": "code",
   "execution_count": 5,
   "metadata": {},
   "outputs": [],
   "source": [
    "from tensorflow.keras.utils import to_categorical\n",
    "\n",
    "y_train = to_categorical(y_train, nb_classes)\n",
    "y_test = to_categorical(y_test, nb_classes)"
   ]
  },
  {
   "cell_type": "code",
   "execution_count": 18,
   "metadata": {},
   "outputs": [],
   "source": [
    "shape_of_first = x_train[0].shape"
   ]
  },
  {
   "cell_type": "code",
   "execution_count": 7,
   "metadata": {},
   "outputs": [
    {
     "data": {
      "image/png": "[encoded data removed]",
      "text/plain": [
       "<Figure size 1440x360 with 4 Axes>"
      ]
     },
     "metadata": {
      "needs_background": "light"
     },
     "output_type": "display_data"
    }
   ],
   "source": [
    "plt.figure(figsize=(20,5))\n",
    "\n",
    "plt.subplot(141)\n",
    "plt.imshow(x_train[123].reshape(28,28), cmap=\"gray\")\n",
    "plt.title(\"Label of the image: {}\".format(y_train[123]))\n",
    "\n",
    "plt.subplot(142)\n",
    "plt.imshow(x_train[124].reshape(28,28), cmap=\"gray\")\n",
    "plt.title(\"Label of the image: {}\".format(y_train[124]))\n",
    "\n",
    "plt.subplot(143)\n",
    "plt.imshow(x_train[125].reshape(28,28), cmap=\"gray\")\n",
    "plt.title(\"Label of the image: {}\".format(y_train[125]))\n",
    "\n",
    "plt.subplot(144)\n",
    "plt.imshow(x_train[126].reshape(28,28), cmap=\"gray\")\n",
    "plt.title(\"Label of the image: {}\".format(y_train[126]))\n",
    "\n",
    "plt.show()"
   ]
  },
  {
   "cell_type": "code",
   "execution_count": 19,
   "metadata": {},
   "outputs": [],
   "source": [
    "model = Sequential()\n",
    "model.add(Dense(1028, input_shape=shape_of_first, activation=\"relu\"))\n",
    "model.add(Dense(1028, activation='relu'))\n",
    "model.add(Dense(10, activation='softmax'))"
   ]
  },
  {
   "cell_type": "code",
   "execution_count": 20,
   "metadata": {},
   "outputs": [
    {
     "name": "stdout",
     "output_type": "stream",
     "text": [
      "Model: \"sequential_3\"\n",
      "_________________________________________________________________\n",
      "Layer (type)                 Output Shape              Param #   \n",
      "=================================================================\n",
      "dense_8 (Dense)              (None, 1028)              806980    \n",
      "_________________________________________________________________\n",
      "dense_9 (Dense)              (None, 1028)              1057812   \n",
      "_________________________________________________________________\n",
      "dense_10 (Dense)             (None, 10)                10290     \n",
      "=================================================================\n",
      "Total params: 1,875,082\n",
      "Trainable params: 1,875,082\n",
      "Non-trainable params: 0\n",
      "_________________________________________________________________\n"
     ]
    }
   ],
   "source": [
    "model.summary()"
   ]
  },
  {
   "cell_type": "code",
   "execution_count": 17,
   "metadata": {},
   "outputs": [
    {
     "name": "stdout",
     "output_type": "stream",
     "text": [
      "Executing op DestroyResourceOp in device /job:localhost/replica:0/task:0/device:GPU:0\n",
      "Executing op MapDataset in device /job:localhost/replica:0/task:0/device:CPU:0\n",
      "Executing op FlatMapDataset in device /job:localhost/replica:0/task:0/device:CPU:0\n",
      "Executing op ParallelMapDataset in device /job:localhost/replica:0/task:0/device:CPU:0\n",
      "Executing op MapDataset in device /job:localhost/replica:0/task:0/device:CPU:0\n",
      "Executing op PrefetchDataset in device /job:localhost/replica:0/task:0/device:CPU:0\n",
      "Executing op FlatMapDataset in device /job:localhost/replica:0/task:0/device:CPU:0\n",
      "Executing op TensorDataset in device /job:localhost/replica:0/task:0/device:CPU:0\n",
      "Executing op RepeatDataset in device /job:localhost/replica:0/task:0/device:CPU:0\n",
      "Executing op ZipDataset in device /job:localhost/replica:0/task:0/device:CPU:0\n",
      "Executing op ParallelMapDataset in device /job:localhost/replica:0/task:0/device:CPU:0\n",
      "Train on 60000 samples, validate on 10000 samples\n",
      "Epoch 1/20\n",
      "Executing op VarHandleOp in device /job:localhost/replica:0/task:0/device:GPU:0\n",
      "Executing op VarHandleOp in device /job:localhost/replica:0/task:0/device:GPU:0\n",
      "Executing op VarHandleOp in device /job:localhost/replica:0/task:0/device:GPU:0\n",
      "Executing op VarHandleOp in device /job:localhost/replica:0/task:0/device:GPU:0\n",
      "Executing op VarHandleOp in device /job:localhost/replica:0/task:0/device:GPU:0\n",
      "Executing op VarHandleOp in device /job:localhost/replica:0/task:0/device:GPU:0\n",
      "Executing op VarHandleOp in device /job:localhost/replica:0/task:0/device:GPU:0\n",
      "Executing op VarHandleOp in device /job:localhost/replica:0/task:0/device:GPU:0\n",
      "Executing op VarHandleOp in device /job:localhost/replica:0/task:0/device:GPU:0\n",
      "Executing op VarHandleOp in device /job:localhost/replica:0/task:0/device:GPU:0\n",
      "Executing op VarHandleOp in device /job:localhost/replica:0/task:0/device:GPU:0\n",
      "WARNING:tensorflow:Entity <function Function._initialize_uninitialized_variables.<locals>.initialize_variables at 0x0000016370DD3F78> could not be transformed and will be executed as-is. Please report this to the AutoGraph team. When filing the bug, set the verbosity to 10 (on Linux, `export AUTOGRAPH_VERBOSITY=10`) and attach the full output. Cause: module 'gast' has no attribute 'Num'\n",
      "WARNING: Entity <function Function._initialize_uninitialized_variables.<locals>.initialize_variables at 0x0000016370DD3F78> could not be transformed and will be executed as-is. Please report this to the AutoGraph team. When filing the bug, set the verbosity to 10 (on Linux, `export AUTOGRAPH_VERBOSITY=10`) and attach the full output. Cause: module 'gast' has no attribute 'Num'\n",
      "Executing op __inference_initialize_variables_36071 in device /job:localhost/replica:0/task:0/device:GPU:0\n",
      "Executing op __inference_distributed_function_36336 in device /job:localhost/replica:0/task:0/device:GPU:0\n",
      "59520/60000 [============================>.] - ETA: 0s - loss: 0.0102 - accuracy: 0.9981Executing op __inference_distributed_function_37856 in device /job:localhost/replica:0/task:0/device:GPU:0\n",
      "60000/60000 [==============================] - 5s 90us/sample - loss: 0.0105 - accuracy: 0.9980 - val_loss: 0.2608 - val_accuracy: 0.9824\n",
      "Epoch 2/20\n",
      "60000/60000 [==============================] - 3s 46us/sample - loss: 0.0082 - accuracy: 0.9983 - val_loss: 0.2371 - val_accuracy: 0.9813\n",
      "Epoch 3/20\n",
      "60000/60000 [==============================] - 3s 44us/sample - loss: 0.0052 - accuracy: 0.9990 - val_loss: 0.2979 - val_accuracy: 0.9824\n",
      "Epoch 4/20\n",
      "60000/60000 [==============================] - 3s 46us/sample - loss: 0.0088 - accuracy: 0.9986 - val_loss: 0.2180 - val_accuracy: 0.9843\n",
      "Epoch 5/20\n",
      "60000/60000 [==============================] - 3s 43us/sample - loss: 0.0077 - accuracy: 0.9985 - val_loss: 0.2892 - val_accuracy: 0.9817\n",
      "Epoch 6/20\n",
      "60000/60000 [==============================] - 3s 43us/sample - loss: 0.0072 - accuracy: 0.9987 - val_loss: 0.2523 - val_accuracy: 0.9843\n",
      "Epoch 7/20\n",
      "60000/60000 [==============================] - 3s 43us/sample - loss: 0.0077 - accuracy: 0.9986 - val_loss: 0.2706 - val_accuracy: 0.9830\n",
      "Epoch 8/20\n",
      "60000/60000 [==============================] - 3s 43us/sample - loss: 0.0068 - accuracy: 0.9988 - val_loss: 0.2448 - val_accuracy: 0.9844\n",
      "Epoch 9/20\n",
      "60000/60000 [==============================] - 3s 43us/sample - loss: 0.0061 - accuracy: 0.9990 - val_loss: 0.3513 - val_accuracy: 0.9784\n",
      "Epoch 10/20\n",
      "60000/60000 [==============================] - 3s 43us/sample - loss: 0.0052 - accuracy: 0.9990 - val_loss: 0.2668 - val_accuracy: 0.9840\n",
      "Epoch 11/20\n",
      "60000/60000 [==============================] - 3s 43us/sample - loss: 0.0058 - accuracy: 0.9991 - val_loss: 0.3361 - val_accuracy: 0.9807\n",
      "Epoch 12/20\n",
      "60000/60000 [==============================] - 3s 47us/sample - loss: 0.0058 - accuracy: 0.9991 - val_loss: 0.3417 - val_accuracy: 0.9812\n",
      "Epoch 13/20\n",
      "60000/60000 [==============================] - 3s 43us/sample - loss: 0.0052 - accuracy: 0.9991 - val_loss: 0.3322 - val_accuracy: 0.9826\n",
      "Epoch 14/20\n",
      "60000/60000 [==============================] - 3s 43us/sample - loss: 0.0065 - accuracy: 0.9989 - val_loss: 0.3201 - val_accuracy: 0.9803\n",
      "Epoch 15/20\n",
      "60000/60000 [==============================] - 3s 43us/sample - loss: 0.0058 - accuracy: 0.9990 - val_loss: 0.2557 - val_accuracy: 0.9842\n",
      "Epoch 16/20\n",
      "60000/60000 [==============================] - 3s 43us/sample - loss: 0.0049 - accuracy: 0.9991 - val_loss: 0.2627 - val_accuracy: 0.9852\n",
      "Epoch 17/20\n",
      "60000/60000 [==============================] - 3s 43us/sample - loss: 0.0050 - accuracy: 0.9992 - val_loss: 0.3118 - val_accuracy: 0.9812\n",
      "Epoch 18/20\n",
      "60000/60000 [==============================] - 3s 42us/sample - loss: 0.0040 - accuracy: 0.9992 - val_loss: 0.2824 - val_accuracy: 0.9841\n",
      "Epoch 19/20\n",
      "60000/60000 [==============================] - 3s 42us/sample - loss: 0.0043 - accuracy: 0.9992 - val_loss: 0.2954 - val_accuracy: 0.9821\n",
      "Epoch 20/20\n",
      "60000/60000 [==============================] - 3s 47us/sample - loss: 0.0034 - accuracy: 0.9994 - val_loss: 0.3408 - val_accuracy: 0.9838\n"
     ]
    },
    {
     "data": {
      "text/plain": [
       "<tensorflow.python.keras.callbacks.History at 0x16420a404c8>"
      ]
     },
     "execution_count": 17,
     "metadata": {},
     "output_type": "execute_result"
    }
   ],
   "source": [
    "model.compile(optimzer='sgd', loss='categorical_crossentropy', metrics=['accuracy'])\n",
    "model.fit(x_train, y_train, batch_size=batch_size, epochs=20, verbose=1, validation_data=(x_test, y_test))"
   ]
  },
  {
   "cell_type": "markdown",
   "metadata": {},
   "source": [
    "### In this task, you'll build an ANN and train and test it using the MNIST data. This ANN should consist of two hidden and one output layer. All hidden layers should be dense. The neuron sizes of the first layer and the second layer should be 32 and 16 respectively. Train this model 20 epochs and compare your train and test set performance with the example above Is there any difference? If so, why?"
   ]
  },
  {
   "cell_type": "code",
   "execution_count": 21,
   "metadata": {},
   "outputs": [
    {
     "name": "stdout",
     "output_type": "stream",
     "text": [
      "Executing op VarHandleOp in device /job:localhost/replica:0/task:0/device:GPU:0\n",
      "Executing op VarHandleOp in device /job:localhost/replica:0/task:0/device:GPU:0\n",
      "Executing op VarHandleOp in device /job:localhost/replica:0/task:0/device:GPU:0\n",
      "Executing op VarHandleOp in device /job:localhost/replica:0/task:0/device:GPU:0\n",
      "Executing op VarHandleOp in device /job:localhost/replica:0/task:0/device:GPU:0\n",
      "Executing op VarHandleOp in device /job:localhost/replica:0/task:0/device:GPU:0\n"
     ]
    }
   ],
   "source": [
    "new_model = Sequential()\n",
    "model.add(Dense(1028, input_shape=shape_of_first, activation='relu'))\n",
    "model.add(Dense(32, activation='relu'))\n",
    "model.add(Dense(16, activation='relu'))\n",
    "model.add(Dense(10, activation='softmax'))"
   ]
  },
  {
   "cell_type": "code",
   "execution_count": 23,
   "metadata": {},
   "outputs": [
    {
     "name": "stdout",
     "output_type": "stream",
     "text": [
      "Executing op MapDataset in device /job:localhost/replica:0/task:0/device:CPU:0\n",
      "Executing op FlatMapDataset in device /job:localhost/replica:0/task:0/device:CPU:0\n",
      "Executing op ParallelMapDataset in device /job:localhost/replica:0/task:0/device:CPU:0\n",
      "Executing op MapDataset in device /job:localhost/replica:0/task:0/device:CPU:0\n",
      "Executing op FlatMapDataset in device /job:localhost/replica:0/task:0/device:CPU:0\n",
      "Executing op ParallelMapDataset in device /job:localhost/replica:0/task:0/device:CPU:0\n",
      "Train on 60000 samples, validate on 10000 samples\n",
      "Epoch 1/20\n",
      "Executing op VarHandleOp in device /job:localhost/replica:0/task:0/device:GPU:0\n",
      "Executing op VarHandleOp in device /job:localhost/replica:0/task:0/device:GPU:0\n",
      "Executing op VarHandleOp in device /job:localhost/replica:0/task:0/device:GPU:0\n",
      "Executing op VarHandleOp in device /job:localhost/replica:0/task:0/device:GPU:0\n",
      "WARNING:tensorflow:Entity <function Function._initialize_uninitialized_variables.<locals>.initialize_variables at 0x0000016420BA5A68> could not be transformed and will be executed as-is. Please report this to the AutoGraph team. When filing the bug, set the verbosity to 10 (on Linux, `export AUTOGRAPH_VERBOSITY=10`) and attach the full output. Cause: module 'gast' has no attribute 'Num'\n",
      "WARNING: Entity <function Function._initialize_uninitialized_variables.<locals>.initialize_variables at 0x0000016420BA5A68> could not be transformed and will be executed as-is. Please report this to the AutoGraph team. When filing the bug, set the verbosity to 10 (on Linux, `export AUTOGRAPH_VERBOSITY=10`) and attach the full output. Cause: module 'gast' has no attribute 'Num'\n",
      "Executing op __inference_initialize_variables_70193 in device /job:localhost/replica:0/task:0/device:GPU:0\n",
      "Executing op __inference_distributed_function_70437 in device /job:localhost/replica:0/task:0/device:GPU:0\n",
      "59904/60000 [============================>.] - ETA: 0s - loss: 2.3009 - accuracy: 0.1162Executing op __inference_distributed_function_71985 in device /job:localhost/replica:0/task:0/device:GPU:0\n",
      "60000/60000 [==============================] - 5s 87us/sample - loss: 2.3009 - accuracy: 0.1162 - val_loss: 2.2994 - val_accuracy: 0.1135\n",
      "Epoch 2/20\n",
      "60000/60000 [==============================] - 2s 34us/sample - loss: 2.2983 - accuracy: 0.1124 - val_loss: 2.2964 - val_accuracy: 0.1135\n",
      "Epoch 3/20\n",
      "60000/60000 [==============================] - 2s 35us/sample - loss: 2.2936 - accuracy: 0.1259 - val_loss: 2.2890 - val_accuracy: 0.1401\n",
      "Epoch 4/20\n",
      "60000/60000 [==============================] - 2s 34us/sample - loss: 2.2799 - accuracy: 0.1925 - val_loss: 2.2642 - val_accuracy: 0.2146\n",
      "Epoch 5/20\n",
      "60000/60000 [==============================] - 2s 34us/sample - loss: 2.2155 - accuracy: 0.2363 - val_loss: 2.1265 - val_accuracy: 0.2439\n",
      "Epoch 6/20\n",
      "60000/60000 [==============================] - 2s 34us/sample - loss: 1.9759 - accuracy: 0.2257 - val_loss: 1.8426 - val_accuracy: 0.2273\n",
      "Epoch 7/20\n",
      "60000/60000 [==============================] - 2s 39us/sample - loss: 1.7650 - accuracy: 0.2608 - val_loss: 1.6957 - val_accuracy: 0.3112\n",
      "Epoch 8/20\n",
      "60000/60000 [==============================] - 2s 34us/sample - loss: 1.6206 - accuracy: 0.3376 - val_loss: 1.5351 - val_accuracy: 0.3824\n",
      "Epoch 9/20\n",
      "60000/60000 [==============================] - 2s 39us/sample - loss: 1.4687 - accuracy: 0.3988 - val_loss: 1.3690 - val_accuracy: 0.4696\n",
      "Epoch 10/20\n",
      "60000/60000 [==============================] - 2s 39us/sample - loss: 1.3250 - accuracy: 0.4817 - val_loss: 1.3074 - val_accuracy: 0.4754\n",
      "Epoch 11/20\n",
      "60000/60000 [==============================] - 2s 36us/sample - loss: 1.1540 - accuracy: 0.5867 - val_loss: 1.0197 - val_accuracy: 0.7034\n",
      "Epoch 12/20\n",
      "60000/60000 [==============================] - 2s 34us/sample - loss: 0.9180 - accuracy: 0.7349 - val_loss: 0.7519 - val_accuracy: 0.8209\n",
      "Epoch 13/20\n",
      "60000/60000 [==============================] - 2s 34us/sample - loss: 0.6704 - accuracy: 0.8328 - val_loss: 0.5657 - val_accuracy: 0.8732\n",
      "Epoch 14/20\n",
      "60000/60000 [==============================] - 2s 34us/sample - loss: 0.5038 - accuracy: 0.8820 - val_loss: 0.4674 - val_accuracy: 0.8958\n",
      "Epoch 15/20\n",
      "60000/60000 [==============================] - 2s 35us/sample - loss: 0.4141 - accuracy: 0.9023 - val_loss: 0.4025 - val_accuracy: 0.9117\n",
      "Epoch 16/20\n",
      "60000/60000 [==============================] - 2s 33us/sample - loss: 0.3528 - accuracy: 0.9174 - val_loss: 0.4430 - val_accuracy: 0.9017\n",
      "Epoch 17/20\n",
      "60000/60000 [==============================] - 2s 37us/sample - loss: 0.3048 - accuracy: 0.9286 - val_loss: 0.4432 - val_accuracy: 0.8884\n",
      "Epoch 18/20\n",
      "60000/60000 [==============================] - 2s 34us/sample - loss: 0.2638 - accuracy: 0.9384 - val_loss: 0.3147 - val_accuracy: 0.9301\n",
      "Epoch 19/20\n",
      "60000/60000 [==============================] - 2s 34us/sample - loss: 0.2357 - accuracy: 0.9445 - val_loss: 0.3268 - val_accuracy: 0.9272\n",
      "Epoch 20/20\n",
      "60000/60000 [==============================] - 2s 34us/sample - loss: 0.2261 - accuracy: 0.9462 - val_loss: 0.3112 - val_accuracy: 0.9334\n"
     ]
    },
    {
     "data": {
      "text/plain": [
       "<tensorflow.python.keras.callbacks.History at 0x164234bbf48>"
      ]
     },
     "execution_count": 23,
     "metadata": {},
     "output_type": "execute_result"
    }
   ],
   "source": [
    "model.compile(optimizer='sgd', loss='categorical_crossentropy', metrics=['accuracy'])\n",
    "model.fit(x_train, y_train, batch_size=batch_size, epochs=20, verbose=1, validation_data=(x_test, y_test))"
   ]
  },
  {
   "cell_type": "markdown",
   "metadata": {},
   "source": [
    "Comparing this model to the previous, it appears as though having more nodes available in the hidden layers performed better overall to having significantly less nodes but more hidden layers."
   ]
  },
  {
   "cell_type": "markdown",
   "metadata": {},
   "source": [
    "### You'll also build an ANN in this task. This time, this ANN should have 5 hidden layers and 1 output layer. All the layers should be dense. The neuron numbers for the hidden layers should be 1024, 512, 256, 128 and 64. Train this model 20 epochs and test it using the same data from the previous task and compare your results. Is there any difference? If so, why?"
   ]
  },
  {
   "cell_type": "code",
   "execution_count": 25,
   "metadata": {},
   "outputs": [
    {
     "name": "stdout",
     "output_type": "stream",
     "text": [
      "Executing op VarHandleOp in device /job:localhost/replica:0/task:0/device:GPU:0\n",
      "Executing op VarHandleOp in device /job:localhost/replica:0/task:0/device:GPU:0\n",
      "Executing op VarHandleOp in device /job:localhost/replica:0/task:0/device:GPU:0\n",
      "Executing op VarHandleOp in device /job:localhost/replica:0/task:0/device:GPU:0\n",
      "Executing op VarHandleOp in device /job:localhost/replica:0/task:0/device:GPU:0\n",
      "Executing op VarHandleOp in device /job:localhost/replica:0/task:0/device:GPU:0\n",
      "Executing op VarHandleOp in device /job:localhost/replica:0/task:0/device:GPU:0\n",
      "Executing op VarHandleOp in device /job:localhost/replica:0/task:0/device:GPU:0\n",
      "Executing op VarHandleOp in device /job:localhost/replica:0/task:0/device:GPU:0\n",
      "Executing op VarHandleOp in device /job:localhost/replica:0/task:0/device:GPU:0\n",
      "Executing op VarHandleOp in device /job:localhost/replica:0/task:0/device:GPU:0\n",
      "Executing op MapDataset in device /job:localhost/replica:0/task:0/device:CPU:0\n",
      "Executing op FlatMapDataset in device /job:localhost/replica:0/task:0/device:CPU:0\n",
      "Executing op ParallelMapDataset in device /job:localhost/replica:0/task:0/device:CPU:0\n",
      "Executing op MapDataset in device /job:localhost/replica:0/task:0/device:CPU:0\n",
      "Executing op FlatMapDataset in device /job:localhost/replica:0/task:0/device:CPU:0\n",
      "Executing op ParallelMapDataset in device /job:localhost/replica:0/task:0/device:CPU:0\n",
      "Train on 60000 samples, validate on 10000 samples\n",
      "Epoch 1/20\n",
      "Executing op VarHandleOp in device /job:localhost/replica:0/task:0/device:GPU:0\n",
      "Executing op VarHandleOp in device /job:localhost/replica:0/task:0/device:GPU:0\n",
      "Executing op VarHandleOp in device /job:localhost/replica:0/task:0/device:GPU:0\n",
      "Executing op VarHandleOp in device /job:localhost/replica:0/task:0/device:GPU:0\n",
      "WARNING:tensorflow:Entity <function Function._initialize_uninitialized_variables.<locals>.initialize_variables at 0x0000016423DD03A8> could not be transformed and will be executed as-is. Please report this to the AutoGraph team. When filing the bug, set the verbosity to 10 (on Linux, `export AUTOGRAPH_VERBOSITY=10`) and attach the full output. Cause: module 'gast' has no attribute 'Num'\n",
      "WARNING: Entity <function Function._initialize_uninitialized_variables.<locals>.initialize_variables at 0x0000016423DD03A8> could not be transformed and will be executed as-is. Please report this to the AutoGraph team. When filing the bug, set the verbosity to 10 (on Linux, `export AUTOGRAPH_VERBOSITY=10`) and attach the full output. Cause: module 'gast' has no attribute 'Num'\n",
      "Executing op __inference_initialize_variables_104254 in device /job:localhost/replica:0/task:0/device:GPU:0\n",
      "Executing op __inference_distributed_function_104494 in device /job:localhost/replica:0/task:0/device:GPU:0\n",
      "58496/60000 [============================>.] - ETA: 0s - loss: 1.4129 - accuracy: 0.5838Executing op __inference_distributed_function_106042 in device /job:localhost/replica:0/task:0/device:GPU:0\n",
      "60000/60000 [==============================] - 5s 81us/sample - loss: 1.3899 - accuracy: 0.5908 - val_loss: 0.4535 - val_accuracy: 0.8751\n",
      "Epoch 2/20\n",
      "60000/60000 [==============================] - ETA: 0s - loss: 0.3805 - accuracy: 0.89 - 2s 39us/sample - loss: 0.3804 - accuracy: 0.8910 - val_loss: 0.3047 - val_accuracy: 0.9110\n",
      "Epoch 3/20\n",
      "60000/60000 [==============================] - 2s 39us/sample - loss: 0.2803 - accuracy: 0.9187 - val_loss: 0.2441 - val_accuracy: 0.9286\n",
      "Epoch 4/20\n",
      "60000/60000 [==============================] - 2s 39us/sample - loss: 0.2293 - accuracy: 0.9331 - val_loss: 0.2117 - val_accuracy: 0.9359\n",
      "Epoch 5/20\n",
      "60000/60000 [==============================] - 2s 36us/sample - loss: 0.1928 - accuracy: 0.9441 - val_loss: 0.1770 - val_accuracy: 0.9478\n",
      "Epoch 6/20\n",
      "60000/60000 [==============================] - 2s 36us/sample - loss: 0.1657 - accuracy: 0.9517 - val_loss: 0.1621 - val_accuracy: 0.9504\n",
      "Epoch 7/20\n",
      "60000/60000 [==============================] - 2s 39us/sample - loss: 0.1443 - accuracy: 0.9579 - val_loss: 0.1460 - val_accuracy: 0.9540\n",
      "Epoch 8/20\n",
      "60000/60000 [==============================] - 2s 36us/sample - loss: 0.1279 - accuracy: 0.9627 - val_loss: 0.1307 - val_accuracy: 0.9590\n",
      "Epoch 9/20\n",
      "60000/60000 [==============================] - 2s 36us/sample - loss: 0.1143 - accuracy: 0.9664 - val_loss: 0.1214 - val_accuracy: 0.9631\n",
      "Epoch 10/20\n",
      "60000/60000 [==============================] - 2s 35us/sample - loss: 0.1026 - accuracy: 0.9708 - val_loss: 0.1203 - val_accuracy: 0.9640\n",
      "Epoch 11/20\n",
      "60000/60000 [==============================] - 2s 39us/sample - loss: 0.0923 - accuracy: 0.9735 - val_loss: 0.1031 - val_accuracy: 0.9682\n",
      "Epoch 12/20\n",
      "60000/60000 [==============================] - 2s 35us/sample - loss: 0.0842 - accuracy: 0.9753 - val_loss: 0.0955 - val_accuracy: 0.9696\n",
      "Epoch 13/20\n",
      "60000/60000 [==============================] - 2s 36us/sample - loss: 0.0762 - accuracy: 0.9785 - val_loss: 0.0987 - val_accuracy: 0.9682\n",
      "Epoch 14/20\n",
      "60000/60000 [==============================] - 2s 39us/sample - loss: 0.0685 - accuracy: 0.9808 - val_loss: 0.0884 - val_accuracy: 0.9707\n",
      "Epoch 15/20\n",
      "60000/60000 [==============================] - ETA: 0s - loss: 0.0632 - accuracy: 0.98 - 2s 37us/sample - loss: 0.0632 - accuracy: 0.9819 - val_loss: 0.0910 - val_accuracy: 0.9697\n",
      "Epoch 16/20\n",
      "60000/60000 [==============================] - ETA: 0s - loss: 0.0566 - accuracy: 0.98 - 2s 35us/sample - loss: 0.0570 - accuracy: 0.9837 - val_loss: 0.0915 - val_accuracy: 0.9708\n",
      "Epoch 17/20\n",
      "60000/60000 [==============================] - 2s 35us/sample - loss: 0.0524 - accuracy: 0.9855 - val_loss: 0.0828 - val_accuracy: 0.9735\n",
      "Epoch 18/20\n",
      "60000/60000 [==============================] - 2s 35us/sample - loss: 0.0478 - accuracy: 0.9866 - val_loss: 0.0965 - val_accuracy: 0.9691\n",
      "Epoch 19/20\n",
      "60000/60000 [==============================] - 2s 35us/sample - loss: 0.0427 - accuracy: 0.9886 - val_loss: 0.0805 - val_accuracy: 0.9733\n",
      "Epoch 20/20\n",
      "60000/60000 [==============================] - 2s 35us/sample - loss: 0.0396 - accuracy: 0.9895 - val_loss: 0.0772 - val_accuracy: 0.9750\n"
     ]
    },
    {
     "data": {
      "text/plain": [
       "<tensorflow.python.keras.callbacks.History at 0x16423dca1c8>"
      ]
     },
     "execution_count": 25,
     "metadata": {},
     "output_type": "execute_result"
    }
   ],
   "source": [
    "model = Sequential()\n",
    "model.add(Dense(1028, input_shape=shape_of_first, activation='relu'))\n",
    "model.add(Dense(1024, activation='relu'))\n",
    "model.add(Dense(512, activation='relu'))\n",
    "model.add(Dense(256, activation='relu'))\n",
    "model.add(Dense(128, activation='relu'))\n",
    "model.add(Dense(64, activation='relu'))\n",
    "model.add(Dense(10, activation='softmax'))\n",
    "model.compile(optimizer='sgd', loss='categorical_crossentropy', metrics=['accuracy'])\n",
    "model.fit(x_train, y_train, batch_size=batch_size, epochs=20, verbose=1, validation_data=(x_test, y_test))"
   ]
  },
  {
   "cell_type": "markdown",
   "metadata": {},
   "source": [
    "This model is the best suited of the three models and combines the better qualities of the previous two to optimize the accuracy while reducing overfitting of the training data. It uses both a sufficient number of nodes to find patterns within discreet pixel clusters, and sufficient layers to find associations between those patterns."
   ]
  },
  {
   "cell_type": "code",
   "execution_count": null,
   "metadata": {},
   "outputs": [],
   "source": []
  }
 ],
 "metadata": {
  "kernelspec": {
   "display_name": "Python 3",
   "language": "python",
   "name": "python3"
  },
  "language_info": {
   "codemirror_mode": {
    "name": "ipython",
    "version": 3
   },
   "file_extension": ".py",
   "mimetype": "text/x-python",
   "name": "python",
   "nbconvert_exporter": "python",
   "pygments_lexer": "ipython3",
   "version": "3.7.6"
  }
 },
 "nbformat": 4,
 "nbformat_minor": 4
}
